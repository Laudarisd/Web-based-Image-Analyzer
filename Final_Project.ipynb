{
  "nbformat": 4,
  "nbformat_minor": 0,
  "metadata": {
    "colab": {
      "name": "Final_Project.ipynb",
      "provenance": [],
      "include_colab_link": true
    },
    "kernelspec": {
      "name": "python3",
      "display_name": "Python 3"
    },
    "accelerator": "GPU"
  },
  "cells": [
    {
      "cell_type": "markdown",
      "metadata": {
        "id": "view-in-github",
        "colab_type": "text"
      },
      "source": [
        "<a href=\"https://colab.research.google.com/github/Tathagatd96/Web-based-Image-Analyzer/blob/master/Final_Project.ipynb\" target=\"_parent\"><img src=\"https://colab.research.google.com/assets/colab-badge.svg\" alt=\"Open In Colab\"/></a>"
      ]
    },
    {
      "cell_type": "code",
      "metadata": {
        "id": "chSS7rw5A7Me",
        "colab_type": "code",
        "colab": {
          "base_uri": "https://localhost:8080/",
          "height": 140
        },
        "outputId": "748c2878-2537-4936-9693-7457c760a954"
      },
      "source": [
        "!git clone https://github.com/EscVM/OIDv4_ToolKit.git"
      ],
      "execution_count": 3,
      "outputs": [
        {
          "output_type": "stream",
          "text": [
            "Cloning into 'OIDv4_ToolKit'...\n",
            "remote: Enumerating objects: 23, done.\u001b[K\n",
            "remote: Counting objects: 100% (23/23), done.\u001b[K\n",
            "remote: Compressing objects: 100% (21/21), done.\u001b[K\n",
            "remote: Total 422 (delta 3), reused 12 (delta 2), pack-reused 399\u001b[K\n",
            "Receiving objects: 100% (422/422), 34.10 MiB | 10.27 MiB/s, done.\n",
            "Resolving deltas: 100% (132/132), done.\n"
          ],
          "name": "stdout"
        }
      ]
    },
    {
      "cell_type": "code",
      "metadata": {
        "id": "3oQpt786C7x8",
        "colab_type": "code",
        "colab": {
          "base_uri": "https://localhost:8080/",
          "height": 175
        },
        "outputId": "81380114-1ac1-44d2-d228-c2f86acbd21d"
      },
      "source": [
        "import os\n",
        "path = os.getcwd() + \"/OIDv4_ToolKit\"\n",
        "for files in os.listdir(path):\n",
        "  print(files)"
      ],
      "execution_count": 5,
      "outputs": [
        {
          "output_type": "stream",
          "text": [
            "LICENSE\n",
            "modules\n",
            ".git\n",
            ".gitignore\n",
            "classes.txt\n",
            "main.py\n",
            "images\n",
            "README.md\n",
            "requirements.txt\n"
          ],
          "name": "stdout"
        }
      ]
    },
    {
      "cell_type": "code",
      "metadata": {
        "id": "KsL1fcjKDppY",
        "colab_type": "code",
        "colab": {}
      },
      "source": [
        "import shutil\n",
        "path = os.getcwd() + \"/OIDv4_ToolKit\"\n",
        "excp = ['LICENSE','README.md','.gitignore','.git','classes.txt']\n",
        "for files in os.listdir(path):\n",
        "  if not os.path.isdir(os.path.join(path,files)):\n",
        "    if files not in excp:\n",
        "      shutil.copy(os.path.join(path,files), os.getcwd())"
      ],
      "execution_count": 0,
      "outputs": []
    },
    {
      "cell_type": "code",
      "metadata": {
        "id": "vk0n5mUfF38D",
        "colab_type": "code",
        "colab": {}
      },
      "source": [
        "os.mkdir(os.getcwd() + \"/modules\")\n",
        "path = os.getcwd() + \"/OIDv4_ToolKit/modules\"\n",
        "for files in os.listdir(path):\n",
        "  shutil.copy(os.path.join(path,files), os.getcwd() + \"/modules\")"
      ],
      "execution_count": 0,
      "outputs": []
    },
    {
      "cell_type": "code",
      "metadata": {
        "id": "b9cB-g5rGXrB",
        "colab_type": "code",
        "colab": {}
      },
      "source": [
        "lbs = ['Apple','Artichoke','Banana','Bell Pepper','Brocoli','Cabbage','Cantaloupe','Carrot','Chicken','Coconut','Common Fig','Cucumber','Egg','Fish','Garden Asparagus','Grape','Grapefruit','Lobster','Mango','Orange','Pear','Pineapple','Pomegranate','Potato','Pumpkin','Radish','Squash','Strawberry','Tomato','Watermelon','Winter Melon','Zucchini']\n",
        "shutil.rmtree(os.getcwd() + \"/classes.txt\")\n",
        "f = open(\"classes.txt\",\"w\")\n",
        "for lb in lbs:\n",
        "  f.write(\"{}\\n\".format(lb))\n"
      ],
      "execution_count": 0,
      "outputs": []
    },
    {
      "cell_type": "code",
      "metadata": {
        "id": "3F2rxWIKIHGc",
        "colab_type": "code",
        "colab": {
          "base_uri": "https://localhost:8080/",
          "height": 140
        },
        "outputId": "0fef06d9-001f-4b6a-e6b2-b064a31fd63b"
      },
      "source": [
        "for files in os.listdir(os.getcwd()):\n",
        "  print(files)"
      ],
      "execution_count": 13,
      "outputs": [
        {
          "output_type": "stream",
          "text": [
            ".config\n",
            "modules\n",
            "main.py\n",
            "OIDv4_ToolKit\n",
            "classes.txt\n",
            "requirements.txt\n",
            "sample_data\n"
          ],
          "name": "stdout"
        }
      ]
    },
    {
      "cell_type": "markdown",
      "metadata": {
        "id": "Yqa3GL2MIQYG",
        "colab_type": "text"
      },
      "source": [
        "Fetching Data"
      ]
    },
    {
      "cell_type": "code",
      "metadata": {
        "id": "4-9b71utINtZ",
        "colab_type": "code",
        "colab": {
          "base_uri": "https://localhost:8080/",
          "height": 1000
        },
        "outputId": "c160fa2d-00f2-4f73-a96d-1418c3dbd755"
      },
      "source": [
        "!pip install awscli\n",
        "!python3 main.py downloader --classes Apple Artichoke Banana Broccoli Cabbage Cantaloupe Carrot Chicken Coconut Cucumber Egg Fish Grape Grapefruit Lobster Mango Orange Pear Pineapple Pomegranate Potato Pumpkin Radish Squash Strawberry Tomato Watermelon Zucchini --type_csv train"
      ],
      "execution_count": 20,
      "outputs": [
        {
          "output_type": "stream",
          "text": [
            "Requirement already satisfied: awscli in /usr/local/lib/python3.6/dist-packages (1.16.283)\n",
            "Requirement already satisfied: rsa<=3.5.0,>=3.1.2 in /usr/local/lib/python3.6/dist-packages (from awscli) (3.4.2)\n",
            "Requirement already satisfied: PyYAML<5.2,>=3.10; python_version != \"2.6\" and python_version != \"3.3\" in /usr/local/lib/python3.6/dist-packages (from awscli) (3.13)\n",
            "Requirement already satisfied: docutils<0.16,>=0.10 in /usr/local/lib/python3.6/dist-packages (from awscli) (0.15.2)\n",
            "Requirement already satisfied: s3transfer<0.3.0,>=0.2.0 in /usr/local/lib/python3.6/dist-packages (from awscli) (0.2.1)\n",
            "Requirement already satisfied: botocore==1.13.19 in /usr/local/lib/python3.6/dist-packages (from awscli) (1.13.19)\n",
            "Requirement already satisfied: colorama<0.4.2,>=0.2.5; python_version != \"2.6\" and python_version != \"3.3\" in /usr/local/lib/python3.6/dist-packages (from awscli) (0.4.1)\n",
            "Requirement already satisfied: pyasn1>=0.1.3 in /usr/local/lib/python3.6/dist-packages (from rsa<=3.5.0,>=3.1.2->awscli) (0.4.7)\n",
            "Requirement already satisfied: urllib3<1.26,>=1.20; python_version >= \"3.4\" in /usr/local/lib/python3.6/dist-packages (from botocore==1.13.19->awscli) (1.24.3)\n",
            "Requirement already satisfied: python-dateutil<2.8.1,>=2.1; python_version >= \"2.7\" in /usr/local/lib/python3.6/dist-packages (from botocore==1.13.19->awscli) (2.6.1)\n",
            "Requirement already satisfied: jmespath<1.0.0,>=0.7.1 in /usr/local/lib/python3.6/dist-packages (from botocore==1.13.19->awscli) (0.9.4)\n",
            "Requirement already satisfied: six>=1.5 in /usr/local/lib/python3.6/dist-packages (from python-dateutil<2.8.1,>=2.1; python_version >= \"2.7\"->botocore==1.13.19->awscli) (1.12.0)\n",
            "\u001b[92m\n",
            "\t\t   ___   _____  ______            _    _    \n",
            "\t\t .'   `.|_   _||_   _ `.         | |  | |   \n",
            "\t\t/  .-.  \\ | |    | | `. \\ _   __ | |__| |_  \n",
            "\t\t| |   | | | |    | |  | |[ \\ [  ]|____   _| \n",
            "\t\t\\  `-'  /_| |_  _| |_.' / \\ \\/ /     _| |_  \n",
            "\t\t `.___.'|_____||______.'   \\__/     |_____|\n",
            "\t\u001b[0m\n",
            "\u001b[92m\n",
            "             _____                    _                 _             \n",
            "            (____ \\                  | |               | |            \n",
            "             _   \\ \\ ___  _ _ _ ____ | | ___   ____  _ | | ____  ____ \n",
            "            | |   | / _ \\| | | |  _ \\| |/ _ \\ / _  |/ || |/ _  )/ ___)\n",
            "            | |__/ / |_| | | | | | | | | |_| ( ( | ( (_| ( (/ /| |    \n",
            "            |_____/ \\___/ \\____|_| |_|_|\\___/ \\_||_|\\____|\\____)_|    \n",
            "                                                          \n",
            "        \u001b[0m\n",
            "    [INFO] | Downloading Apple.\u001b[0m\n",
            "\n",
            "\u001b[95mApple\u001b[0m\n",
            "    [INFO] | Downloading train images.\u001b[0m\n",
            "    [INFO] | [INFO] Found 1078 online images for train.\u001b[0m\n",
            "    [INFO] | All images already downloaded.\u001b[0m\n",
            "    [INFO] | Creating labels for Apple of train.\u001b[0m\n",
            "    [INFO] | Labels creation completed.\u001b[0m\n",
            "    [INFO] | Downloading Artichoke.\u001b[0m\n",
            "\n",
            "\u001b[95mArtichoke\u001b[0m\n",
            "    [INFO] | Downloading train images.\u001b[0m\n",
            "    [INFO] | [INFO] Found 164 online images for train.\u001b[0m\n",
            "    [INFO] | All images already downloaded.\u001b[0m\n",
            "    [INFO] | Creating labels for Artichoke of train.\u001b[0m\n",
            "    [INFO] | Labels creation completed.\u001b[0m\n",
            "    [INFO] | Downloading Banana.\u001b[0m\n",
            "\n",
            "\u001b[95mBanana\u001b[0m\n",
            "    [INFO] | Downloading train images.\u001b[0m\n",
            "    [INFO] | [INFO] Found 723 online images for train.\u001b[0m\n",
            "    [INFO] | All images already downloaded.\u001b[0m\n",
            "    [INFO] | Creating labels for Banana of train.\u001b[0m\n",
            "    [INFO] | Labels creation completed.\u001b[0m\n",
            "    [INFO] | Downloading Broccoli.\u001b[0m\n",
            "\n",
            "\u001b[95mBroccoli\u001b[0m\n",
            "    [INFO] | Downloading train images.\u001b[0m\n",
            "    [INFO] | [INFO] Found 475 online images for train.\u001b[0m\n",
            "    [INFO] | Download of 475 images in train.\u001b[0m\n",
            "100% 475/475 [04:28<00:00,  1.77it/s]\n",
            "    [INFO] | Done!\u001b[0m\n",
            "    [INFO] | Creating labels for Broccoli of train.\u001b[0m\n",
            "    [INFO] | Labels creation completed.\u001b[0m\n",
            "    [INFO] | Downloading Cabbage.\u001b[0m\n",
            "\n",
            "\u001b[95mCabbage\u001b[0m\n",
            "    [INFO] | Downloading train images.\u001b[0m\n",
            "    [INFO] | [INFO] Found 276 online images for train.\u001b[0m\n",
            "    [INFO] | Download of 276 images in train.\u001b[0m\n",
            "100% 276/276 [02:40<00:00,  1.72it/s]\n",
            "    [INFO] | Done!\u001b[0m\n",
            "    [INFO] | Creating labels for Cabbage of train.\u001b[0m\n",
            "    [INFO] | Labels creation completed.\u001b[0m\n",
            "    [INFO] | Downloading Cantaloupe.\u001b[0m\n",
            "\n",
            "\u001b[95mCantaloupe\u001b[0m\n",
            "    [INFO] | Downloading train images.\u001b[0m\n",
            "    [INFO] | [INFO] Found 101 online images for train.\u001b[0m\n",
            "    [INFO] | Download of 101 images in train.\u001b[0m\n",
            "100% 101/101 [00:57<00:00,  1.76it/s]\n",
            "    [INFO] | Done!\u001b[0m\n",
            "    [INFO] | Creating labels for Cantaloupe of train.\u001b[0m\n",
            "    [INFO] | Labels creation completed.\u001b[0m\n",
            "    [INFO] | Downloading Carrot.\u001b[0m\n",
            "\n",
            "\u001b[95mCarrot\u001b[0m\n",
            "    [INFO] | Downloading train images.\u001b[0m\n",
            "    [INFO] | [INFO] Found 594 online images for train.\u001b[0m\n",
            "    [INFO] | Download of 594 images in train.\u001b[0m\n",
            "100% 594/594 [05:40<00:00,  1.74it/s]\n",
            "    [INFO] | Done!\u001b[0m\n",
            "    [INFO] | Creating labels for Carrot of train.\u001b[0m\n",
            "    [INFO] | Labels creation completed.\u001b[0m\n",
            "    [INFO] | Downloading Chicken.\u001b[0m\n",
            "\n",
            "\u001b[95mChicken\u001b[0m\n",
            "    [INFO] | Downloading train images.\u001b[0m\n",
            "    [INFO] | [INFO] Found 1421 online images for train.\u001b[0m\n",
            "    [INFO] | Download of 1421 images in train.\u001b[0m\n",
            "100% 1421/1421 [13:50<00:00,  1.71it/s]\n",
            "    [INFO] | Done!\u001b[0m\n",
            "    [INFO] | Creating labels for Chicken of train.\u001b[0m\n",
            "    [INFO] | Labels creation completed.\u001b[0m\n",
            "    [INFO] | Downloading Coconut.\u001b[0m\n",
            "\n",
            "\u001b[95mCoconut\u001b[0m\n",
            "    [INFO] | Downloading train images.\u001b[0m\n",
            "    [INFO] | [INFO] Found 382 online images for train.\u001b[0m\n",
            "    [INFO] | Download of 382 images in train.\u001b[0m\n",
            "100% 382/382 [03:52<00:00,  4.27it/s]\n",
            "    [INFO] | Done!\u001b[0m\n",
            "    [INFO] | Creating labels for Coconut of train.\u001b[0m\n",
            "    [INFO] | Labels creation completed.\u001b[0m\n",
            "    [INFO] | Downloading Cucumber.\u001b[0m\n",
            "\n",
            "\u001b[95mCucumber\u001b[0m\n",
            "    [INFO] | Downloading train images.\u001b[0m\n",
            "    [INFO] | [INFO] Found 454 online images for train.\u001b[0m\n",
            "    [INFO] | Download of 454 images in train.\u001b[0m\n",
            "100% 454/454 [04:37<00:00,  1.63it/s]\n",
            "    [INFO] | Done!\u001b[0m\n",
            "    [INFO] | Creating labels for Cucumber of train.\u001b[0m\n",
            "    [INFO] | Labels creation completed.\u001b[0m\n",
            "    [INFO] | Downloading Egg.\u001b[0m\n",
            "\n",
            "\u001b[95mEgg\u001b[0m\n",
            "    [INFO] | Downloading train images.\u001b[0m\n",
            "    [INFO] | [INFO] Found 934 online images for train.\u001b[0m\n",
            "    [INFO] | Download of 934 images in train.\u001b[0m\n",
            "100% 934/934 [09:46<00:00,  1.59it/s]\n",
            "    [INFO] | Done!\u001b[0m\n",
            "    [INFO] | Creating labels for Egg of train.\u001b[0m\n",
            "    [INFO] | Labels creation completed.\u001b[0m\n",
            "    [INFO] | Downloading Fish.\u001b[0m\n",
            "\n",
            "\u001b[95mFish\u001b[0m\n",
            "    [INFO] | Downloading train images.\u001b[0m\n",
            "    [INFO] | [INFO] Found 5434 online images for train.\u001b[0m\n",
            "    [INFO] | Download of 5434 images in train.\u001b[0m\n",
            "100% 5434/5434 [54:51<00:00,  3.44it/s]\n",
            "    [INFO] | Done!\u001b[0m\n",
            "    [INFO] | Creating labels for Fish of train.\u001b[0m\n",
            "    [INFO] | Labels creation completed.\u001b[0m\n",
            "    [INFO] | Downloading Grape.\u001b[0m\n",
            "\n",
            "\u001b[95mGrape\u001b[0m\n",
            "    [INFO] | Downloading train images.\u001b[0m\n",
            "    [INFO] | [INFO] Found 767 online images for train.\u001b[0m\n",
            "    [INFO] | Download of 767 images in train.\u001b[0m\n",
            "100% 767/767 [07:41<00:00,  1.66it/s]\n",
            "    [INFO] | Done!\u001b[0m\n",
            "    [INFO] | Creating labels for Grape of train.\u001b[0m\n",
            "    [INFO] | Labels creation completed.\u001b[0m\n",
            "    [INFO] | Downloading Grapefruit.\u001b[0m\n",
            "\n",
            "\u001b[95mGrapefruit\u001b[0m\n",
            "    [INFO] | Downloading train images.\u001b[0m\n",
            "    [INFO] | [INFO] Found 432 online images for train.\u001b[0m\n",
            "    [INFO] | Download of 432 images in train.\u001b[0m\n",
            "100% 432/432 [04:31<00:00,  1.59it/s]\n",
            "    [INFO] | Done!\u001b[0m\n",
            "    [INFO] | Creating labels for Grapefruit of train.\u001b[0m\n",
            "    [INFO] | Labels creation completed.\u001b[0m\n",
            "    [INFO] | Downloading Lobster.\u001b[0m\n",
            "\n",
            "\u001b[95mLobster\u001b[0m\n",
            "    [INFO] | Downloading train images.\u001b[0m\n",
            "    [INFO] | [INFO] Found 405 online images for train.\u001b[0m\n",
            "    [INFO] | Download of 405 images in train.\u001b[0m\n",
            "100% 405/405 [03:57<00:00,  2.24it/s]\n",
            "    [INFO] | Done!\u001b[0m\n",
            "    [INFO] | Creating labels for Lobster of train.\u001b[0m\n",
            "    [INFO] | Labels creation completed.\u001b[0m\n",
            "    [INFO] | Downloading Mango.\u001b[0m\n",
            "\n",
            "\u001b[95mMango\u001b[0m\n",
            "    [INFO] | Downloading train images.\u001b[0m\n",
            "    [INFO] | [INFO] Found 126 online images for train.\u001b[0m\n",
            "    [INFO] | Download of 126 images in train.\u001b[0m\n",
            "100% 126/126 [01:01<00:00,  2.06it/s]\n",
            "    [INFO] | Done!\u001b[0m\n",
            "    [INFO] | Creating labels for Mango of train.\u001b[0m\n",
            "    [INFO] | Labels creation completed.\u001b[0m\n",
            "    [INFO] | Downloading Orange.\u001b[0m\n",
            "\n",
            "\u001b[95mOrange\u001b[0m\n",
            "    [INFO] | Downloading train images.\u001b[0m\n",
            "    [INFO] | [INFO] Found 900 online images for train.\u001b[0m\n",
            "    [INFO] | Download of 900 images in train.\u001b[0m\n",
            "100% 900/900 [09:42<00:00,  2.58it/s]\n",
            "    [INFO] | Done!\u001b[0m\n",
            "    [INFO] | Creating labels for Orange of train.\u001b[0m\n",
            "    [INFO] | Labels creation completed.\u001b[0m\n",
            "    [INFO] | Downloading Pear.\u001b[0m\n",
            "\n",
            "\u001b[95mPear\u001b[0m\n",
            "    [INFO] | Downloading train images.\u001b[0m\n",
            "    [INFO] | [INFO] Found 263 online images for train.\u001b[0m\n",
            "    [INFO] | Download of 263 images in train.\u001b[0m\n",
            "100% 263/263 [02:27<00:00,  3.14it/s]\n",
            "    [INFO] | Done!\u001b[0m\n",
            "    [INFO] | Creating labels for Pear of train.\u001b[0m\n",
            "    [INFO] | Labels creation completed.\u001b[0m\n",
            "    [INFO] | Downloading Pineapple.\u001b[0m\n",
            "\n",
            "\u001b[95mPineapple\u001b[0m\n",
            "    [INFO] | Downloading train images.\u001b[0m\n",
            "    [INFO] | [INFO] Found 310 online images for train.\u001b[0m\n",
            "    [INFO] | Download of 310 images in train.\u001b[0m\n",
            "100% 310/310 [03:08<00:00,  1.65it/s]\n",
            "    [INFO] | Done!\u001b[0m\n",
            "    [INFO] | Creating labels for Pineapple of train.\u001b[0m\n",
            "    [INFO] | Labels creation completed.\u001b[0m\n",
            "    [INFO] | Downloading Pomegranate.\u001b[0m\n",
            "\n",
            "\u001b[95mPomegranate\u001b[0m\n",
            "    [INFO] | Downloading train images.\u001b[0m\n",
            "    [INFO] | [INFO] Found 225 online images for train.\u001b[0m\n",
            "    [INFO] | Download of 225 images in train.\u001b[0m\n",
            "100% 225/225 [02:18<00:00,  1.63it/s]\n",
            "    [INFO] | Done!\u001b[0m\n",
            "    [INFO] | Creating labels for Pomegranate of train.\u001b[0m\n",
            "    [INFO] | Labels creation completed.\u001b[0m\n",
            "    [INFO] | Downloading Potato.\u001b[0m\n",
            "\n",
            "\u001b[95mPotato\u001b[0m\n",
            "    [INFO] | Downloading train images.\u001b[0m\n",
            "    [INFO] | [INFO] Found 304 online images for train.\u001b[0m\n",
            "    [INFO] | Download of 304 images in train.\u001b[0m\n",
            "100% 304/304 [03:03<00:00,  1.66it/s]\n",
            "    [INFO] | Done!\u001b[0m\n",
            "    [INFO] | Creating labels for Potato of train.\u001b[0m\n",
            "    [INFO] | Labels creation completed.\u001b[0m\n",
            "    [INFO] | Downloading Pumpkin.\u001b[0m\n",
            "\n",
            "\u001b[95mPumpkin\u001b[0m\n",
            "    [INFO] | Downloading train images.\u001b[0m\n",
            "    [INFO] | [INFO] Found 1705 online images for train.\u001b[0m\n",
            "    [INFO] | Download of 1705 images in train.\u001b[0m\n",
            "100% 1705/1705 [18:00<00:00,  3.18it/s]\n",
            "    [INFO] | Done!\u001b[0m\n",
            "    [INFO] | Creating labels for Pumpkin of train.\u001b[0m\n",
            "    [INFO] | Labels creation completed.\u001b[0m\n",
            "    [INFO] | Downloading Radish.\u001b[0m\n",
            "\n",
            "\u001b[95mRadish\u001b[0m\n",
            "    [INFO] | Downloading train images.\u001b[0m\n",
            "    [INFO] | [INFO] Found 264 online images for train.\u001b[0m\n",
            "    [INFO] | Download of 264 images in train.\u001b[0m\n",
            "100% 264/264 [02:39<00:00,  2.68it/s]\n",
            "    [INFO] | Done!\u001b[0m\n",
            "    [INFO] | Creating labels for Radish of train.\u001b[0m\n",
            "    [INFO] | Labels creation completed.\u001b[0m\n",
            "    [INFO] | Downloading Squash.\u001b[0m\n",
            "\n",
            "\u001b[95mSquash\u001b[0m\n",
            "    [INFO] | Downloading train images.\u001b[0m\n",
            "    [INFO] | [INFO] Found 122 online images for train.\u001b[0m\n",
            "    [INFO] | Download of 122 images in train.\u001b[0m\n",
            "100% 122/122 [01:19<00:00,  3.23it/s]\n",
            "    [INFO] | Done!\u001b[0m\n",
            "    [INFO] | Creating labels for Squash of train.\u001b[0m\n",
            "    [INFO] | Labels creation completed.\u001b[0m\n",
            "    [INFO] | Downloading Strawberry.\u001b[0m\n",
            "\n",
            "\u001b[95mStrawberry\u001b[0m\n",
            "    [INFO] | Downloading train images.\u001b[0m\n",
            "    [INFO] | [INFO] Found 1257 online images for train.\u001b[0m\n",
            "    [INFO] | Download of 1257 images in train.\u001b[0m\n",
            "100% 1257/1257 [13:25<00:00,  3.46it/s]\n",
            "    [INFO] | Done!\u001b[0m\n",
            "    [INFO] | Creating labels for Strawberry of train.\u001b[0m\n",
            "    [INFO] | Labels creation completed.\u001b[0m\n",
            "    [INFO] | Downloading Tomato.\u001b[0m\n",
            "\n",
            "\u001b[95mTomato\u001b[0m\n",
            "    [INFO] | Downloading train images.\u001b[0m\n",
            "    [INFO] | [INFO] Found 1283 online images for train.\u001b[0m\n",
            "    [INFO] | Download of 1283 images in train.\u001b[0m\n",
            "100% 1283/1283 [13:28<00:00,  3.76it/s]\n",
            "    [INFO] | Done!\u001b[0m\n",
            "    [INFO] | Creating labels for Tomato of train.\u001b[0m\n",
            "    [INFO] | Labels creation completed.\u001b[0m\n",
            "    [INFO] | Downloading Watermelon.\u001b[0m\n",
            "\n",
            "\u001b[95mWatermelon\u001b[0m\n",
            "    [INFO] | Downloading train images.\u001b[0m\n",
            "    [INFO] | [INFO] Found 409 online images for train.\u001b[0m\n",
            "    [INFO] | Download of 409 images in train.\u001b[0m\n",
            "100% 409/409 [04:09<00:00,  1.64it/s]\n",
            "    [INFO] | Done!\u001b[0m\n",
            "    [INFO] | Creating labels for Watermelon of train.\u001b[0m\n",
            "    [INFO] | Labels creation completed.\u001b[0m\n",
            "    [INFO] | Downloading Zucchini.\u001b[0m\n",
            "\n",
            "\u001b[95mZucchini\u001b[0m\n",
            "    [INFO] | Downloading train images.\u001b[0m\n",
            "    [INFO] | [INFO] Found 287 online images for train.\u001b[0m\n",
            "    [INFO] | Download of 287 images in train.\u001b[0m\n",
            "100% 287/287 [03:06<00:00,  1.54it/s]\n",
            "    [INFO] | Done!\u001b[0m\n",
            "    [INFO] | Creating labels for Zucchini of train.\u001b[0m\n",
            "    [INFO] | Labels creation completed.\u001b[0m\n"
          ],
          "name": "stdout"
        }
      ]
    },
    {
      "cell_type": "code",
      "metadata": {
        "id": "cDcW_4l6YNoJ",
        "colab_type": "code",
        "colab": {
          "base_uri": "https://localhost:8080/",
          "height": 1000
        },
        "outputId": "d6b38aac-262f-4b4e-d675-0a57247ef31c"
      },
      "source": [
        "!python3 main.py downloader --classes Apple Artichoke Banana Broccoli Cabbage Cantaloupe Carrot Chicken Coconut Cucumber Egg Fish Grape Grapefruit Lobster Mango Orange Pear Pineapple Pomegranate Potato Pumpkin Radish Squash Strawberry Tomato Watermelon Zucchini --type_csv validation"
      ],
      "execution_count": 21,
      "outputs": [
        {
          "output_type": "stream",
          "text": [
            "\u001b[92m\n",
            "\t\t   ___   _____  ______            _    _    \n",
            "\t\t .'   `.|_   _||_   _ `.         | |  | |   \n",
            "\t\t/  .-.  \\ | |    | | `. \\ _   __ | |__| |_  \n",
            "\t\t| |   | | | |    | |  | |[ \\ [  ]|____   _| \n",
            "\t\t\\  `-'  /_| |_  _| |_.' / \\ \\/ /     _| |_  \n",
            "\t\t `.___.'|_____||______.'   \\__/     |_____|\n",
            "\t\u001b[0m\n",
            "\u001b[92m\n",
            "             _____                    _                 _             \n",
            "            (____ \\                  | |               | |            \n",
            "             _   \\ \\ ___  _ _ _ ____ | | ___   ____  _ | | ____  ____ \n",
            "            | |   | / _ \\| | | |  _ \\| |/ _ \\ / _  |/ || |/ _  )/ ___)\n",
            "            | |__/ / |_| | | | | | | | | |_| ( ( | ( (_| ( (/ /| |    \n",
            "            |_____/ \\___/ \\____|_| |_|_|\\___/ \\_||_|\\____|\\____)_|    \n",
            "                                                          \n",
            "        \u001b[0m\n",
            "    [INFO] | Downloading Apple.\u001b[0m\n",
            "\u001b[91m   [ERROR] | Missing the validation-annotations-bbox.csv file.\u001b[0m\n",
            "\u001b[94m[DOWNLOAD] | Do you want to download the missing file? [Y/n] \u001b[0my\n",
            "...100%, 16 MB, 39388 KB/s, 0 seconds passed\n",
            "\u001b[94m[DOWNLOAD] | File validation-annotations-bbox.csv downloaded into OID/csv_folder/validation-annotations-bbox.csv.\u001b[0m\n",
            "\n",
            "\u001b[95mApple\u001b[0m\n",
            "    [INFO] | Downloading validation images.\u001b[0m\n",
            "    [INFO] | [INFO] Found 46 online images for validation.\u001b[0m\n",
            "    [INFO] | Download of 46 images in validation.\u001b[0m\n",
            "100% 46/46 [00:31<00:00,  1.51it/s]\n",
            "    [INFO] | Done!\u001b[0m\n",
            "    [INFO] | Creating labels for Apple of validation.\u001b[0m\n",
            "    [INFO] | Labels creation completed.\u001b[0m\n",
            "    [INFO] | Downloading Artichoke.\u001b[0m\n",
            "\n",
            "\u001b[95mArtichoke\u001b[0m\n",
            "    [INFO] | Downloading validation images.\u001b[0m\n",
            "    [INFO] | [INFO] Found 17 online images for validation.\u001b[0m\n",
            "    [INFO] | Download of 17 images in validation.\u001b[0m\n",
            "100% 17/17 [00:11<00:00,  1.48it/s]\n",
            "    [INFO] | Done!\u001b[0m\n",
            "    [INFO] | Creating labels for Artichoke of validation.\u001b[0m\n",
            "    [INFO] | Labels creation completed.\u001b[0m\n",
            "    [INFO] | Downloading Banana.\u001b[0m\n",
            "\n",
            "\u001b[95mBanana\u001b[0m\n",
            "    [INFO] | Downloading validation images.\u001b[0m\n",
            "    [INFO] | [INFO] Found 17 online images for validation.\u001b[0m\n",
            "    [INFO] | Download of 17 images in validation.\u001b[0m\n",
            "100% 17/17 [00:11<00:00,  1.50it/s]\n",
            "    [INFO] | Done!\u001b[0m\n",
            "    [INFO] | Creating labels for Banana of validation.\u001b[0m\n",
            "    [INFO] | Labels creation completed.\u001b[0m\n",
            "    [INFO] | Downloading Broccoli.\u001b[0m\n",
            "\n",
            "\u001b[95mBroccoli\u001b[0m\n",
            "    [INFO] | Downloading validation images.\u001b[0m\n",
            "    [INFO] | [INFO] Found 18 online images for validation.\u001b[0m\n",
            "    [INFO] | Download of 18 images in validation.\u001b[0m\n",
            "100% 18/18 [00:11<00:00,  1.51it/s]\n",
            "    [INFO] | Done!\u001b[0m\n",
            "    [INFO] | Creating labels for Broccoli of validation.\u001b[0m\n",
            "    [INFO] | Labels creation completed.\u001b[0m\n",
            "    [INFO] | Downloading Cabbage.\u001b[0m\n",
            "\n",
            "\u001b[95mCabbage\u001b[0m\n",
            "    [INFO] | Downloading validation images.\u001b[0m\n",
            "    [INFO] | [INFO] Found 22 online images for validation.\u001b[0m\n",
            "    [INFO] | Download of 22 images in validation.\u001b[0m\n",
            "100% 22/22 [00:17<00:00,  1.26it/s]\n",
            "    [INFO] | Done!\u001b[0m\n",
            "    [INFO] | Creating labels for Cabbage of validation.\u001b[0m\n",
            "    [INFO] | Labels creation completed.\u001b[0m\n",
            "    [INFO] | Downloading Cantaloupe.\u001b[0m\n",
            "\n",
            "\u001b[95mCantaloupe\u001b[0m\n",
            "    [INFO] | Downloading validation images.\u001b[0m\n",
            "    [INFO] | [INFO] Found 11 online images for validation.\u001b[0m\n",
            "    [INFO] | Download of 11 images in validation.\u001b[0m\n",
            "100% 11/11 [00:08<00:00,  1.29it/s]\n",
            "    [INFO] | Done!\u001b[0m\n",
            "    [INFO] | Creating labels for Cantaloupe of validation.\u001b[0m\n",
            "    [INFO] | Labels creation completed.\u001b[0m\n",
            "    [INFO] | Downloading Carrot.\u001b[0m\n",
            "\n",
            "\u001b[95mCarrot\u001b[0m\n",
            "    [INFO] | Downloading validation images.\u001b[0m\n",
            "    [INFO] | [INFO] Found 32 online images for validation.\u001b[0m\n",
            "    [INFO] | Download of 32 images in validation.\u001b[0m\n",
            "100% 32/32 [00:22<00:00,  1.44it/s]\n",
            "    [INFO] | Done!\u001b[0m\n",
            "    [INFO] | Creating labels for Carrot of validation.\u001b[0m\n",
            "    [INFO] | Labels creation completed.\u001b[0m\n",
            "    [INFO] | Downloading Chicken.\u001b[0m\n",
            "\n",
            "\u001b[95mChicken\u001b[0m\n",
            "    [INFO] | Downloading validation images.\u001b[0m\n",
            "    [INFO] | [INFO] Found 45 online images for validation.\u001b[0m\n",
            "    [INFO] | Download of 45 images in validation.\u001b[0m\n",
            "100% 45/45 [00:29<00:00,  1.33s/it]\n",
            "    [INFO] | Done!\u001b[0m\n",
            "    [INFO] | Creating labels for Chicken of validation.\u001b[0m\n",
            "    [INFO] | Labels creation completed.\u001b[0m\n",
            "    [INFO] | Downloading Coconut.\u001b[0m\n",
            "\n",
            "\u001b[95mCoconut\u001b[0m\n",
            "    [INFO] | Downloading validation images.\u001b[0m\n",
            "    [INFO] | [INFO] Found 6 online images for validation.\u001b[0m\n",
            "    [INFO] | Download of 6 images in validation.\u001b[0m\n",
            "100% 6/6 [00:06<00:00,  1.05s/it]\n",
            "    [INFO] | Done!\u001b[0m\n",
            "    [INFO] | Creating labels for Coconut of validation.\u001b[0m\n",
            "    [INFO] | Labels creation completed.\u001b[0m\n",
            "    [INFO] | Downloading Cucumber.\u001b[0m\n",
            "\n",
            "\u001b[95mCucumber\u001b[0m\n",
            "    [INFO] | Downloading validation images.\u001b[0m\n",
            "    [INFO] | [INFO] Found 46 online images for validation.\u001b[0m\n",
            "    [INFO] | Download of 46 images in validation.\u001b[0m\n",
            "100% 46/46 [00:31<00:00,  1.47it/s]\n",
            "    [INFO] | Done!\u001b[0m\n",
            "    [INFO] | Creating labels for Cucumber of validation.\u001b[0m\n",
            "    [INFO] | Labels creation completed.\u001b[0m\n",
            "    [INFO] | Downloading Egg.\u001b[0m\n",
            "\n",
            "\u001b[95mEgg\u001b[0m\n",
            "    [INFO] | Downloading validation images.\u001b[0m\n",
            "    [INFO] | [INFO] Found 60 online images for validation.\u001b[0m\n",
            "    [INFO] | Download of 60 images in validation.\u001b[0m\n",
            "100% 60/60 [00:36<00:00,  1.64it/s]\n",
            "    [INFO] | Done!\u001b[0m\n",
            "    [INFO] | Creating labels for Egg of validation.\u001b[0m\n",
            "    [INFO] | Labels creation completed.\u001b[0m\n",
            "    [INFO] | Downloading Fish.\u001b[0m\n",
            "\n",
            "\u001b[95mFish\u001b[0m\n",
            "    [INFO] | Downloading validation images.\u001b[0m\n",
            "    [INFO] | [INFO] Found 340 online images for validation.\u001b[0m\n",
            "    [INFO] | Download of 340 images in validation.\u001b[0m\n",
            "100% 340/340 [03:11<00:00,  1.77it/s]\n",
            "    [INFO] | Done!\u001b[0m\n",
            "    [INFO] | Creating labels for Fish of validation.\u001b[0m\n",
            "    [INFO] | Labels creation completed.\u001b[0m\n",
            "    [INFO] | Downloading Grape.\u001b[0m\n",
            "\n",
            "\u001b[95mGrape\u001b[0m\n",
            "    [INFO] | Downloading validation images.\u001b[0m\n",
            "    [INFO] | [INFO] Found 44 online images for validation.\u001b[0m\n",
            "    [INFO] | Download of 44 images in validation.\u001b[0m\n",
            "100% 44/44 [00:30<00:00,  1.42it/s]\n",
            "    [INFO] | Done!\u001b[0m\n",
            "    [INFO] | Creating labels for Grape of validation.\u001b[0m\n",
            "    [INFO] | Labels creation completed.\u001b[0m\n",
            "    [INFO] | Downloading Grapefruit.\u001b[0m\n",
            "\n",
            "\u001b[95mGrapefruit\u001b[0m\n",
            "    [INFO] | Downloading validation images.\u001b[0m\n",
            "    [INFO] | [INFO] Found 34 online images for validation.\u001b[0m\n",
            "    [INFO] | Download of 34 images in validation.\u001b[0m\n",
            "100% 34/34 [00:22<00:00,  1.48it/s]\n",
            "    [INFO] | Done!\u001b[0m\n",
            "    [INFO] | Creating labels for Grapefruit of validation.\u001b[0m\n",
            "    [INFO] | Labels creation completed.\u001b[0m\n",
            "    [INFO] | Downloading Lobster.\u001b[0m\n",
            "\n",
            "\u001b[95mLobster\u001b[0m\n",
            "    [INFO] | Downloading validation images.\u001b[0m\n",
            "    [INFO] | [INFO] Found 27 online images for validation.\u001b[0m\n",
            "    [INFO] | Download of 27 images in validation.\u001b[0m\n",
            "100% 27/27 [00:19<00:00,  1.59s/it]\n",
            "    [INFO] | Done!\u001b[0m\n",
            "    [INFO] | Creating labels for Lobster of validation.\u001b[0m\n",
            "    [INFO] | Labels creation completed.\u001b[0m\n",
            "    [INFO] | Downloading Mango.\u001b[0m\n",
            "\n",
            "\u001b[95mMango\u001b[0m\n",
            "    [INFO] | Downloading validation images.\u001b[0m\n",
            "    [INFO] | [INFO] Found 4 online images for validation.\u001b[0m\n",
            "    [INFO] | Download of 4 images in validation.\u001b[0m\n",
            "100% 4/4 [00:05<00:00,  1.33s/it]\n",
            "    [INFO] | Done!\u001b[0m\n",
            "    [INFO] | Creating labels for Mango of validation.\u001b[0m\n",
            "    [INFO] | Labels creation completed.\u001b[0m\n",
            "    [INFO] | Downloading Orange.\u001b[0m\n",
            "\n",
            "\u001b[95mOrange\u001b[0m\n",
            "    [INFO] | Downloading validation images.\u001b[0m\n",
            "    [INFO] | [INFO] Found 61 online images for validation.\u001b[0m\n",
            "    [INFO] | Download of 61 images in validation.\u001b[0m\n",
            "100% 61/61 [00:37<00:00,  1.62it/s]\n",
            "    [INFO] | Done!\u001b[0m\n",
            "    [INFO] | Creating labels for Orange of validation.\u001b[0m\n",
            "    [INFO] | Labels creation completed.\u001b[0m\n",
            "    [INFO] | Downloading Pear.\u001b[0m\n",
            "\n",
            "\u001b[95mPear\u001b[0m\n",
            "    [INFO] | Downloading validation images.\u001b[0m\n",
            "    [INFO] | [INFO] Found 13 online images for validation.\u001b[0m\n",
            "    [INFO] | Download of 13 images in validation.\u001b[0m\n",
            "100% 13/13 [00:09<00:00,  1.36it/s]\n",
            "    [INFO] | Done!\u001b[0m\n",
            "    [INFO] | Creating labels for Pear of validation.\u001b[0m\n",
            "    [INFO] | Labels creation completed.\u001b[0m\n",
            "    [INFO] | Downloading Pineapple.\u001b[0m\n",
            "\n",
            "\u001b[95mPineapple\u001b[0m\n",
            "    [INFO] | Downloading validation images.\u001b[0m\n",
            "    [INFO] | [INFO] Found 21 online images for validation.\u001b[0m\n",
            "    [INFO] | Download of 21 images in validation.\u001b[0m\n",
            "100% 21/21 [00:17<00:00,  4.28s/it]\n",
            "    [INFO] | Done!\u001b[0m\n",
            "    [INFO] | Creating labels for Pineapple of validation.\u001b[0m\n",
            "    [INFO] | Labels creation completed.\u001b[0m\n",
            "    [INFO] | Downloading Pomegranate.\u001b[0m\n",
            "\n",
            "\u001b[95mPomegranate\u001b[0m\n",
            "    [INFO] | Downloading validation images.\u001b[0m\n",
            "    [INFO] | [INFO] Found 10 online images for validation.\u001b[0m\n",
            "    [INFO] | Download of 10 images in validation.\u001b[0m\n",
            "100% 10/10 [00:08<00:00,  1.24it/s]\n",
            "    [INFO] | Done!\u001b[0m\n",
            "    [INFO] | Creating labels for Pomegranate of validation.\u001b[0m\n",
            "    [INFO] | Labels creation completed.\u001b[0m\n",
            "    [INFO] | Downloading Potato.\u001b[0m\n",
            "\n",
            "\u001b[95mPotato\u001b[0m\n",
            "    [INFO] | Downloading validation images.\u001b[0m\n",
            "    [INFO] | [INFO] Found 28 online images for validation.\u001b[0m\n",
            "    [INFO] | Download of 28 images in validation.\u001b[0m\n",
            "100% 28/28 [00:19<00:00,  1.41it/s]\n",
            "    [INFO] | Done!\u001b[0m\n",
            "    [INFO] | Creating labels for Potato of validation.\u001b[0m\n",
            "    [INFO] | Labels creation completed.\u001b[0m\n",
            "    [INFO] | Downloading Pumpkin.\u001b[0m\n",
            "\n",
            "\u001b[95mPumpkin\u001b[0m\n",
            "    [INFO] | Downloading validation images.\u001b[0m\n",
            "    [INFO] | [INFO] Found 25 online images for validation.\u001b[0m\n",
            "    [INFO] | Download of 25 images in validation.\u001b[0m\n",
            "100% 25/25 [00:18<00:00,  3.32s/it]\n",
            "    [INFO] | Done!\u001b[0m\n",
            "    [INFO] | Creating labels for Pumpkin of validation.\u001b[0m\n",
            "    [INFO] | Labels creation completed.\u001b[0m\n",
            "    [INFO] | Downloading Radish.\u001b[0m\n",
            "\n",
            "\u001b[95mRadish\u001b[0m\n",
            "    [INFO] | Downloading validation images.\u001b[0m\n",
            "    [INFO] | [INFO] Found 17 online images for validation.\u001b[0m\n",
            "    [INFO] | Download of 17 images in validation.\u001b[0m\n",
            "100% 17/17 [00:11<00:00,  1.50it/s]\n",
            "    [INFO] | Done!\u001b[0m\n",
            "    [INFO] | Creating labels for Radish of validation.\u001b[0m\n",
            "    [INFO] | Labels creation completed.\u001b[0m\n",
            "    [INFO] | Downloading Squash.\u001b[0m\n",
            "\n",
            "\u001b[95mSquash\u001b[0m\n",
            "    [INFO] | Downloading validation images.\u001b[0m\n",
            "    [INFO] | [INFO] Found 16 online images for validation.\u001b[0m\n",
            "    [INFO] | Download of 16 images in validation.\u001b[0m\n",
            "100% 16/16 [00:11<00:00,  1.41it/s]\n",
            "    [INFO] | Done!\u001b[0m\n",
            "    [INFO] | Creating labels for Squash of validation.\u001b[0m\n",
            "    [INFO] | Labels creation completed.\u001b[0m\n",
            "    [INFO] | Downloading Strawberry.\u001b[0m\n",
            "\n",
            "\u001b[95mStrawberry\u001b[0m\n",
            "    [INFO] | Downloading validation images.\u001b[0m\n",
            "    [INFO] | [INFO] Found 63 online images for validation.\u001b[0m\n",
            "    [INFO] | Download of 63 images in validation.\u001b[0m\n",
            "100% 63/63 [00:40<00:00,  2.55it/s]\n",
            "    [INFO] | Done!\u001b[0m\n",
            "    [INFO] | Creating labels for Strawberry of validation.\u001b[0m\n",
            "    [INFO] | Labels creation completed.\u001b[0m\n",
            "    [INFO] | Downloading Tomato.\u001b[0m\n",
            "\n",
            "\u001b[95mTomato\u001b[0m\n",
            "    [INFO] | Downloading validation images.\u001b[0m\n",
            "    [INFO] | [INFO] Found 56 online images for validation.\u001b[0m\n",
            "    [INFO] | Download of 56 images in validation.\u001b[0m\n",
            "100% 56/56 [00:34<00:00,  1.60it/s]\n",
            "    [INFO] | Done!\u001b[0m\n",
            "    [INFO] | Creating labels for Tomato of validation.\u001b[0m\n",
            "    [INFO] | Labels creation completed.\u001b[0m\n",
            "    [INFO] | Downloading Watermelon.\u001b[0m\n",
            "\n",
            "\u001b[95mWatermelon\u001b[0m\n",
            "    [INFO] | Downloading validation images.\u001b[0m\n",
            "    [INFO] | [INFO] Found 24 online images for validation.\u001b[0m\n",
            "    [INFO] | Download of 24 images in validation.\u001b[0m\n",
            "100% 24/24 [00:18<00:00,  1.31it/s]\n",
            "    [INFO] | Done!\u001b[0m\n",
            "    [INFO] | Creating labels for Watermelon of validation.\u001b[0m\n",
            "    [INFO] | Labels creation completed.\u001b[0m\n",
            "    [INFO] | Downloading Zucchini.\u001b[0m\n",
            "\n",
            "\u001b[95mZucchini\u001b[0m\n",
            "    [INFO] | Downloading validation images.\u001b[0m\n",
            "    [INFO] | [INFO] Found 32 online images for validation.\u001b[0m\n",
            "    [INFO] | Download of 32 images in validation.\u001b[0m\n",
            "100% 32/32 [00:22<00:00,  1.42it/s]\n",
            "    [INFO] | Done!\u001b[0m\n",
            "    [INFO] | Creating labels for Zucchini of validation.\u001b[0m\n",
            "    [INFO] | Labels creation completed.\u001b[0m\n"
          ],
          "name": "stdout"
        }
      ]
    },
    {
      "cell_type": "code",
      "metadata": {
        "id": "opJ4d32mcxzc",
        "colab_type": "code",
        "colab": {
          "base_uri": "https://localhost:8080/",
          "height": 87
        },
        "outputId": "9fa03f78-f435-4492-fa72-3dd1a8f5fff7"
      },
      "source": [
        "path = os.getcwd()\n",
        "for files in os.listdir(path):\n",
        "  print(files)"
      ],
      "execution_count": 38,
      "outputs": [
        {
          "output_type": "stream",
          "text": [
            ".config\n",
            "OID\n",
            "OIDv4_ToolKit\n",
            "sample_data\n"
          ],
          "name": "stdout"
        }
      ]
    },
    {
      "cell_type": "markdown",
      "metadata": {
        "id": "i2Tgv69gdkYO",
        "colab_type": "text"
      },
      "source": [
        "**Clone keras-yolo2 for training**"
      ]
    },
    {
      "cell_type": "code",
      "metadata": {
        "id": "KdW23bGidf8i",
        "colab_type": "code",
        "colab": {
          "base_uri": "https://localhost:8080/",
          "height": 105
        },
        "outputId": "83a58a8c-3907-43f5-ce1b-d28f14346767"
      },
      "source": [
        "!git clone https://github.com/experiencor/keras-yolo2.git"
      ],
      "execution_count": 39,
      "outputs": [
        {
          "output_type": "stream",
          "text": [
            "Cloning into 'keras-yolo2'...\n",
            "remote: Enumerating objects: 324, done.\u001b[K\n",
            "remote: Total 324 (delta 0), reused 0 (delta 0), pack-reused 324\u001b[K\n",
            "Receiving objects: 100% (324/324), 53.90 MiB | 27.23 MiB/s, done.\n",
            "Resolving deltas: 100% (179/179), done.\n"
          ],
          "name": "stdout"
        }
      ]
    },
    {
      "cell_type": "code",
      "metadata": {
        "id": "yDxi0RIod_Wx",
        "colab_type": "code",
        "colab": {
          "base_uri": "https://localhost:8080/",
          "height": 316
        },
        "outputId": "5d5b5575-4356-432f-b4bb-d41b9990ecff"
      },
      "source": [
        "path = os.getcwd()\n",
        "for files in os.listdir(path):\n",
        "  print(files)"
      ],
      "execution_count": 43,
      "outputs": [
        {
          "output_type": "stream",
          "text": [
            ".config\n",
            "LICENSE\n",
            "utils.py\n",
            "Yolo Step-by-Step.ipynb\n",
            "keras-yolo2\n",
            "gen_anchors.py\n",
            "config.json\n",
            "frontend.py\n",
            "OID\n",
            "backend.py\n",
            "preprocessing.py\n",
            "train.py\n",
            "README.md\n",
            "predict.py\n",
            "OIDv4_ToolKit\n",
            "requirements.txt\n",
            "sample_data\n"
          ],
          "name": "stdout"
        }
      ]
    },
    {
      "cell_type": "code",
      "metadata": {
        "id": "VVcne0SteNhr",
        "colab_type": "code",
        "colab": {}
      },
      "source": [
        "excp = ['LICENSE','requirements.txt','README.md','.git','Yolo Step-by-Step.ipynb']\n",
        "path = os.getcwd() + \"/keras-yolo2\"\n",
        "for files in os.listdir(path):\n",
        "  if not os.path.isdir(os.path.join(path,files)):\n",
        "    shutil.copy(os.path.join(path,files),os.getcwd())"
      ],
      "execution_count": 0,
      "outputs": []
    },
    {
      "cell_type": "markdown",
      "metadata": {
        "id": "PPGUXnRWvnod",
        "colab_type": "text"
      },
      "source": [
        "**Convert .txt annotations to .xml format**"
      ]
    },
    {
      "cell_type": "code",
      "metadata": {
        "id": "Hjtppd_2vsjq",
        "colab_type": "code",
        "colab": {
          "base_uri": "https://localhost:8080/",
          "height": 87
        },
        "outputId": "903d6ee3-94ec-4e5a-adf8-525302ef4f43"
      },
      "source": [
        "!git clone https://github.com/AtriSaxena/OIDv4_to_VOC.git"
      ],
      "execution_count": 48,
      "outputs": [
        {
          "output_type": "stream",
          "text": [
            "Cloning into 'OIDv4_to_VOC'...\n",
            "remote: Enumerating objects: 14, done.\u001b[K\n",
            "remote: Total 14 (delta 0), reused 0 (delta 0), pack-reused 14\u001b[K\n",
            "Unpacking objects: 100% (14/14), done.\n"
          ],
          "name": "stdout"
        }
      ]
    },
    {
      "cell_type": "code",
      "metadata": {
        "id": "2THQFydGvz4E",
        "colab_type": "code",
        "colab": {
          "base_uri": "https://localhost:8080/",
          "height": 34
        },
        "outputId": "a01dfe27-0ed5-4da7-a5af-123a42c453ae"
      },
      "source": [
        "path = os.getcwd() + \"/OIDv4_to_VOC/OIDv4_to_VOC.py\"\n",
        "shutil.copy(path,os.getcwd())"
      ],
      "execution_count": 50,
      "outputs": [
        {
          "output_type": "execute_result",
          "data": {
            "text/plain": [
              "'/content/OIDv4_to_VOC.py'"
            ]
          },
          "metadata": {
            "tags": []
          },
          "execution_count": 50
        }
      ]
    },
    {
      "cell_type": "code",
      "metadata": {
        "id": "6OK208KdzvCK",
        "colab_type": "code",
        "colab": {}
      },
      "source": [
        "#shutil.rmtree(os.getcwd() + '/OID/Dataset/train/Annotations')\n",
        "#shutil.rmtree(os.getcwd() + '/OID/Dataset/train/Annotations/Apple')\n",
        "path = 'OID/Dataset/train'\n",
        "for files in os.listdir(path):\n",
        "  ims = os.listdir(os.path.join(path,files))\n",
        "  for im in ims:\n",
        "    if os.path.isdir(os.path.join(path,files,im)):\n",
        "      if im == 'label':\n",
        "        continue\n",
        "      else:\n",
        "        os.rename(os.path.join(path,files,im),path + \"/\" + files + \"/label\")\n",
        "  #lpath = os.path.join(path,files)\n",
        "  #os.rename(lpath + \"/Label\", lpath + \"/label\")"
      ],
      "execution_count": 0,
      "outputs": []
    },
    {
      "cell_type": "code",
      "metadata": {
        "id": "Hz7aZtYJwVot",
        "colab_type": "code",
        "colab": {}
      },
      "source": [
        "#shutil.rmtree(os.getcwd() + '/OID/Dataset/train/Annotations')\n",
        "#shutil.rmtree(os.getcwd() + '/OID/Dataset/train/Annotations/Apple')\n",
        "os.mkdir(os.getcwd() + '/OID/Dataset/train/Annotations')\n",
        "os.mkdir(os.getcwd() + '/OID/Dataset/train/Annotations/Apple')"
      ],
      "execution_count": 0,
      "outputs": []
    },
    {
      "cell_type": "code",
      "metadata": {
        "id": "G_jrZqLFyvrj",
        "colab_type": "code",
        "colab": {}
      },
      "source": [
        "!python3 OIDv4_to_VOC.py --sourcepath OID/Dataset/train/Apple --dest_path OID/Dataset/train/Annotations/Apple"
      ],
      "execution_count": 0,
      "outputs": []
    },
    {
      "cell_type": "code",
      "metadata": {
        "id": "mC40fLj72V9S",
        "colab_type": "code",
        "colab": {}
      },
      "source": [
        "os.mkdir(os.getcwd() + '/OID/Dataset/train/Annotations/Artichoke')\n",
        "!python3 OIDv4_to_VOC.py --sourcepath OID/Dataset/train/Artichoke --dest_path OID/Dataset/train/Annotations/Artichoke"
      ],
      "execution_count": 0,
      "outputs": []
    },
    {
      "cell_type": "code",
      "metadata": {
        "id": "_BdKE40l2k3G",
        "colab_type": "code",
        "colab": {}
      },
      "source": [
        "os.mkdir(os.getcwd() + '/OID/Dataset/train/Annotations/Banana')\n",
        "!python3 OIDv4_to_VOC.py --sourcepath OID/Dataset/train/Banana --dest_path OID/Dataset/train/Annotations/Banana"
      ],
      "execution_count": 0,
      "outputs": []
    },
    {
      "cell_type": "code",
      "metadata": {
        "id": "OxVy02gD2tZ3",
        "colab_type": "code",
        "colab": {}
      },
      "source": [
        "os.mkdir(os.getcwd() + '/OID/Dataset/train/Annotations/Broccoli')\n",
        "!python3 OIDv4_to_VOC.py --sourcepath OID/Dataset/train/Broccoli --dest_path OID/Dataset/train/Annotations/Broccoli"
      ],
      "execution_count": 0,
      "outputs": []
    },
    {
      "cell_type": "code",
      "metadata": {
        "id": "--Xq6T6Z22YA",
        "colab_type": "code",
        "colab": {}
      },
      "source": [
        "os.mkdir(os.getcwd() + '/OID/Dataset/train/Annotations/Cabbage')\n",
        "!python3 OIDv4_to_VOC.py --sourcepath OID/Dataset/train/Cabbage --dest_path OID/Dataset/train/Annotations/Cabbage"
      ],
      "execution_count": 0,
      "outputs": []
    },
    {
      "cell_type": "code",
      "metadata": {
        "id": "I2jZF_ZV2_qi",
        "colab_type": "code",
        "colab": {}
      },
      "source": [
        "os.mkdir(os.getcwd() + '/OID/Dataset/train/Annotations/Cantaloupe')\n",
        "!python3 OIDv4_to_VOC.py --sourcepath OID/Dataset/train/Cantaloupe --dest_path OID/Dataset/train/Annotations/Cantaloupe"
      ],
      "execution_count": 0,
      "outputs": []
    },
    {
      "cell_type": "code",
      "metadata": {
        "id": "jUxHqx3o3IUn",
        "colab_type": "code",
        "colab": {}
      },
      "source": [
        "os.mkdir(os.getcwd() + '/OID/Dataset/train/Annotations/Carrot')\n",
        "!python3 OIDv4_to_VOC.py --sourcepath OID/Dataset/train/Carrot --dest_path OID/Dataset/train/Annotations/Carrot"
      ],
      "execution_count": 0,
      "outputs": []
    },
    {
      "cell_type": "code",
      "metadata": {
        "id": "VIJ6_9ig3OtH",
        "colab_type": "code",
        "colab": {}
      },
      "source": [
        "os.mkdir(os.getcwd() + '/OID/Dataset/train/Annotations/Chicken')\n",
        "!python3 OIDv4_to_VOC.py --sourcepath OID/Dataset/train/Chicken --dest_path OID/Dataset/train/Annotations/Chicken"
      ],
      "execution_count": 0,
      "outputs": []
    },
    {
      "cell_type": "code",
      "metadata": {
        "id": "WthONnq-3YFS",
        "colab_type": "code",
        "colab": {}
      },
      "source": [
        "os.mkdir(os.getcwd() + '/OID/Dataset/train/Annotations/Coconut')\n",
        "!python3 OIDv4_to_VOC.py --sourcepath OID/Dataset/train/Coconut --dest_path OID/Dataset/train/Annotations/Coconut"
      ],
      "execution_count": 0,
      "outputs": []
    },
    {
      "cell_type": "code",
      "metadata": {
        "id": "wcBoQg-A3g6O",
        "colab_type": "code",
        "colab": {}
      },
      "source": [
        "os.mkdir(os.getcwd() + '/OID/Dataset/train/Annotations/Cucumber')\n",
        "!python3 OIDv4_to_VOC.py --sourcepath OID/Dataset/train/Cucumber --dest_path OID/Dataset/train/Annotations/Cucumber"
      ],
      "execution_count": 0,
      "outputs": []
    },
    {
      "cell_type": "code",
      "metadata": {
        "id": "FEWYGD6q3pNN",
        "colab_type": "code",
        "colab": {}
      },
      "source": [
        "os.mkdir(os.getcwd() + '/OID/Dataset/train/Annotations/Egg')\n",
        "!python3 OIDv4_to_VOC.py --sourcepath OID/Dataset/train/Egg --dest_path OID/Dataset/train/Annotations/Egg"
      ],
      "execution_count": 0,
      "outputs": []
    },
    {
      "cell_type": "code",
      "metadata": {
        "id": "SeU8ti563wTC",
        "colab_type": "code",
        "colab": {}
      },
      "source": [
        "os.mkdir(os.getcwd() + '/OID/Dataset/train/Annotations/Fish')\n",
        "!python3 OIDv4_to_VOC.py --sourcepath OID/Dataset/train/Fish --dest_path OID/Dataset/train/Annotations/Fish"
      ],
      "execution_count": 0,
      "outputs": []
    },
    {
      "cell_type": "code",
      "metadata": {
        "id": "cOWbEkl7310w",
        "colab_type": "code",
        "colab": {}
      },
      "source": [
        "os.mkdir(os.getcwd() + '/OID/Dataset/train/Annotations/Grape')\n",
        "!python3 OIDv4_to_VOC.py --sourcepath OID/Dataset/train/Grape --dest_path OID/Dataset/train/Annotations/Grape"
      ],
      "execution_count": 0,
      "outputs": []
    },
    {
      "cell_type": "code",
      "metadata": {
        "id": "F8z9fcvH39Ws",
        "colab_type": "code",
        "colab": {}
      },
      "source": [
        "os.mkdir(os.getcwd() + '/OID/Dataset/train/Annotations/Grapefruit')\n",
        "!python3 OIDv4_to_VOC.py --sourcepath OID/Dataset/train/Grapefruit --dest_path OID/Dataset/train/Annotations/Grapefruit"
      ],
      "execution_count": 0,
      "outputs": []
    },
    {
      "cell_type": "code",
      "metadata": {
        "id": "Wiq85y9S4DB9",
        "colab_type": "code",
        "colab": {}
      },
      "source": [
        "os.mkdir(os.getcwd() + '/OID/Dataset/train/Annotations/Lobster')\n",
        "!python3 OIDv4_to_VOC.py --sourcepath OID/Dataset/train/Lobster --dest_path OID/Dataset/train/Annotations/Lobster"
      ],
      "execution_count": 0,
      "outputs": []
    },
    {
      "cell_type": "code",
      "metadata": {
        "id": "s3-2b7Ie4MLC",
        "colab_type": "code",
        "colab": {}
      },
      "source": [
        "os.mkdir(os.getcwd() + '/OID/Dataset/train/Annotations/Mango')\n",
        "!python3 OIDv4_to_VOC.py --sourcepath OID/Dataset/train/Mango --dest_path OID/Dataset/train/Annotations/Mango"
      ],
      "execution_count": 0,
      "outputs": []
    },
    {
      "cell_type": "code",
      "metadata": {
        "id": "d3xcDHnk4ThY",
        "colab_type": "code",
        "colab": {}
      },
      "source": [
        "os.mkdir(os.getcwd() + '/OID/Dataset/train/Annotations/Orange')\n",
        "!python3 OIDv4_to_VOC.py --sourcepath OID/Dataset/train/Orange --dest_path OID/Dataset/train/Annotations/Orange"
      ],
      "execution_count": 0,
      "outputs": []
    },
    {
      "cell_type": "code",
      "metadata": {
        "id": "UT5hba8a4eY2",
        "colab_type": "code",
        "colab": {}
      },
      "source": [
        "os.mkdir(os.getcwd() + '/OID/Dataset/train/Annotations/Pear')\n",
        "!python3 OIDv4_to_VOC.py --sourcepath OID/Dataset/train/Pear --dest_path OID/Dataset/train/Annotations/Pear"
      ],
      "execution_count": 0,
      "outputs": []
    },
    {
      "cell_type": "code",
      "metadata": {
        "id": "Oxz8Rkh24lqd",
        "colab_type": "code",
        "colab": {}
      },
      "source": [
        "os.mkdir(os.getcwd() + '/OID/Dataset/train/Annotations/Pineapple')\n",
        "!python3 OIDv4_to_VOC.py --sourcepath OID/Dataset/train/Pineapple --dest_path OID/Dataset/train/Annotations/Pineapple"
      ],
      "execution_count": 0,
      "outputs": []
    },
    {
      "cell_type": "code",
      "metadata": {
        "id": "1kdyPn9h4sN-",
        "colab_type": "code",
        "colab": {}
      },
      "source": [
        "os.mkdir(os.getcwd() + '/OID/Dataset/train/Annotations/Pomegranate')\n",
        "!python3 OIDv4_to_VOC.py --sourcepath OID/Dataset/train/Pomegranate --dest_path OID/Dataset/train/Annotations/Pomegranate"
      ],
      "execution_count": 0,
      "outputs": []
    },
    {
      "cell_type": "code",
      "metadata": {
        "id": "9xQjxSII5E5b",
        "colab_type": "code",
        "colab": {}
      },
      "source": [
        "os.mkdir(os.getcwd() + '/OID/Dataset/train/Annotations/Potato')\n",
        "!python3 OIDv4_to_VOC.py --sourcepath OID/Dataset/train/Potato --dest_path OID/Dataset/train/Annotations/Potato"
      ],
      "execution_count": 0,
      "outputs": []
    },
    {
      "cell_type": "code",
      "metadata": {
        "id": "NFpLeF0X5c8u",
        "colab_type": "code",
        "colab": {}
      },
      "source": [
        "os.mkdir(os.getcwd() + '/OID/Dataset/train/Annotations/Pumpkin')\n",
        "!python3 OIDv4_to_VOC.py --sourcepath OID/Dataset/train/Pumpkin --dest_path OID/Dataset/train/Annotations/Pumpkin"
      ],
      "execution_count": 0,
      "outputs": []
    },
    {
      "cell_type": "code",
      "metadata": {
        "id": "KTHp9Y9T5nqD",
        "colab_type": "code",
        "colab": {}
      },
      "source": [
        "os.mkdir(os.getcwd() + '/OID/Dataset/train/Annotations/Radish')\n",
        "!python3 OIDv4_to_VOC.py --sourcepath OID/Dataset/train/Radish --dest_path OID/Dataset/train/Annotations/Radish"
      ],
      "execution_count": 0,
      "outputs": []
    },
    {
      "cell_type": "code",
      "metadata": {
        "id": "faO1t62R5ufC",
        "colab_type": "code",
        "colab": {}
      },
      "source": [
        "os.mkdir(os.getcwd() + '/OID/Dataset/train/Annotations/Squash')\n",
        "!python3 OIDv4_to_VOC.py --sourcepath OID/Dataset/train/Squash --dest_path OID/Dataset/train/Annotations/Squash"
      ],
      "execution_count": 0,
      "outputs": []
    },
    {
      "cell_type": "code",
      "metadata": {
        "id": "76zHnpx158oX",
        "colab_type": "code",
        "colab": {}
      },
      "source": [
        "os.mkdir(os.getcwd() + '/OID/Dataset/train/Annotations/Strawberry')\n",
        "!python3 OIDv4_to_VOC.py --sourcepath OID/Dataset/train/Strawberry --dest_path OID/Dataset/train/Annotations/Strawberry"
      ],
      "execution_count": 0,
      "outputs": []
    },
    {
      "cell_type": "code",
      "metadata": {
        "id": "-9OLCwfg6UhV",
        "colab_type": "code",
        "colab": {}
      },
      "source": [
        "os.mkdir(os.getcwd() + '/OID/Dataset/train/Annotations/Tomato')\n",
        "!python3 OIDv4_to_VOC.py --sourcepath OID/Dataset/train/Tomato --dest_path OID/Dataset/train/Annotations/Tomato"
      ],
      "execution_count": 0,
      "outputs": []
    },
    {
      "cell_type": "code",
      "metadata": {
        "id": "HMmYLSdW6chj",
        "colab_type": "code",
        "colab": {}
      },
      "source": [
        "os.mkdir(os.getcwd() + '/OID/Dataset/train/Annotations/Watermelon')\n",
        "!python3 OIDv4_to_VOC.py --sourcepath OID/Dataset/train/Watermelon --dest_path OID/Dataset/train/Annotations/Watermelon"
      ],
      "execution_count": 0,
      "outputs": []
    },
    {
      "cell_type": "code",
      "metadata": {
        "id": "IER2H80M6jnZ",
        "colab_type": "code",
        "colab": {}
      },
      "source": [
        "os.mkdir(os.getcwd() + '/OID/Dataset/train/Annotations/Zucchini')\n",
        "!python3 OIDv4_to_VOC.py --sourcepath OID/Dataset/train/Zucchini --dest_path OID/Dataset/train/Annotations/Zucchini"
      ],
      "execution_count": 0,
      "outputs": []
    },
    {
      "cell_type": "code",
      "metadata": {
        "id": "kn8s13fP7GdF",
        "colab_type": "code",
        "colab": {}
      },
      "source": [
        "path = 'OID/Dataset/validation'\n",
        "for files in os.listdir(path):\n",
        "  ims = os.listdir(os.path.join(path,files))\n",
        "  for im in ims:\n",
        "    if os.path.isdir(os.path.join(path,files,im)):\n",
        "      if im == 'label':\n",
        "        continue\n",
        "      else:\n",
        "        os.rename(os.path.join(path,files,im),path + \"/\" + files + \"/label\")"
      ],
      "execution_count": 0,
      "outputs": []
    },
    {
      "cell_type": "code",
      "metadata": {
        "id": "x-xiVi3R7Yb8",
        "colab_type": "code",
        "colab": {}
      },
      "source": [
        "os.mkdir(os.getcwd() + '/OID/Dataset/validation/Annotations')\n",
        "os.mkdir(os.getcwd() + '/OID/Dataset/validation/Annotations/Apple')\n",
        "!python3 OIDv4_to_VOC.py --sourcepath OID/Dataset/validation/Apple --dest_path OID/Dataset/validation/Annotations/Apple"
      ],
      "execution_count": 0,
      "outputs": []
    },
    {
      "cell_type": "code",
      "metadata": {
        "id": "0tHp4NdL7vk5",
        "colab_type": "code",
        "colab": {}
      },
      "source": [
        "os.mkdir(os.getcwd() + '/OID/Dataset/validation/Annotations/Artichoke')\n",
        "!python3 OIDv4_to_VOC.py --sourcepath OID/Dataset/validation/Artichoke --dest_path OID/Dataset/validation/Annotations/Artichoke"
      ],
      "execution_count": 0,
      "outputs": []
    },
    {
      "cell_type": "code",
      "metadata": {
        "id": "mUuKmv928ARD",
        "colab_type": "code",
        "colab": {}
      },
      "source": [
        "os.mkdir(os.getcwd() + '/OID/Dataset/validation/Annotations/Banana')\n",
        "!python3 OIDv4_to_VOC.py --sourcepath OID/Dataset/validation/Banana --dest_path OID/Dataset/validation/Annotations/Banana"
      ],
      "execution_count": 0,
      "outputs": []
    },
    {
      "cell_type": "code",
      "metadata": {
        "id": "dMT4dRpb8AVP",
        "colab_type": "code",
        "colab": {}
      },
      "source": [
        "os.mkdir(os.getcwd() + '/OID/Dataset/validation/Annotations/Broccoli')\n",
        "!python3 OIDv4_to_VOC.py --sourcepath OID/Dataset/validation/Broccoli --dest_path OID/Dataset/validation/Annotations/Broccoli"
      ],
      "execution_count": 0,
      "outputs": []
    },
    {
      "cell_type": "code",
      "metadata": {
        "id": "bEGfdQtB8ONk",
        "colab_type": "code",
        "colab": {}
      },
      "source": [
        "os.mkdir(os.getcwd() + '/OID/Dataset/validation/Annotations/Cabbage')\n",
        "!python3 OIDv4_to_VOC.py --sourcepath OID/Dataset/validation/Cabbage --dest_path OID/Dataset/validation/Annotations/Cabbage"
      ],
      "execution_count": 0,
      "outputs": []
    },
    {
      "cell_type": "code",
      "metadata": {
        "id": "MH0k3WKl8a10",
        "colab_type": "code",
        "colab": {}
      },
      "source": [
        "os.mkdir(os.getcwd() + '/OID/Dataset/validation/Annotations/Cantaloupe')\n",
        "!python3 OIDv4_to_VOC.py --sourcepath OID/Dataset/validation/Cantaloupe --dest_path OID/Dataset/validation/Annotations/Cantaloupe"
      ],
      "execution_count": 0,
      "outputs": []
    },
    {
      "cell_type": "code",
      "metadata": {
        "id": "9lsebqJq8igK",
        "colab_type": "code",
        "colab": {}
      },
      "source": [
        "os.mkdir(os.getcwd() + '/OID/Dataset/validation/Annotations/Carrot')\n",
        "!python3 OIDv4_to_VOC.py --sourcepath OID/Dataset/validation/Carrot --dest_path OID/Dataset/validation/Annotations/Carrot"
      ],
      "execution_count": 0,
      "outputs": []
    },
    {
      "cell_type": "code",
      "metadata": {
        "id": "GMcDgQTF8u_t",
        "colab_type": "code",
        "colab": {}
      },
      "source": [
        "os.mkdir(os.getcwd() + '/OID/Dataset/validation/Annotations/Chicken')\n",
        "!python3 OIDv4_to_VOC.py --sourcepath OID/Dataset/validation/Chicken --dest_path OID/Dataset/validation/Annotations/Chicken"
      ],
      "execution_count": 0,
      "outputs": []
    },
    {
      "cell_type": "code",
      "metadata": {
        "id": "V-JigjJw819O",
        "colab_type": "code",
        "colab": {}
      },
      "source": [
        "os.mkdir(os.getcwd() + '/OID/Dataset/validation/Annotations/Coconut')\n",
        "!python3 OIDv4_to_VOC.py --sourcepath OID/Dataset/validation/Coconut --dest_path OID/Dataset/validation/Annotations/Coconut"
      ],
      "execution_count": 0,
      "outputs": []
    },
    {
      "cell_type": "code",
      "metadata": {
        "id": "fsNSczkU86sB",
        "colab_type": "code",
        "colab": {}
      },
      "source": [
        "os.mkdir(os.getcwd() + '/OID/Dataset/validation/Annotations/Cucumber')\n",
        "!python3 OIDv4_to_VOC.py --sourcepath OID/Dataset/validation/Cucumber --dest_path OID/Dataset/validation/Annotations/Cucumber"
      ],
      "execution_count": 0,
      "outputs": []
    },
    {
      "cell_type": "code",
      "metadata": {
        "id": "xCiChD0s9Ct6",
        "colab_type": "code",
        "colab": {}
      },
      "source": [
        "os.mkdir(os.getcwd() + '/OID/Dataset/validation/Annotations/Egg')\n",
        "!python3 OIDv4_to_VOC.py --sourcepath OID/Dataset/validation/Egg --dest_path OID/Dataset/validation/Annotations/Egg"
      ],
      "execution_count": 0,
      "outputs": []
    },
    {
      "cell_type": "code",
      "metadata": {
        "id": "WOTg_Kpa9NrP",
        "colab_type": "code",
        "colab": {}
      },
      "source": [
        "os.mkdir(os.getcwd() + '/OID/Dataset/validation/Annotations/Fish')\n",
        "!python3 OIDv4_to_VOC.py --sourcepath OID/Dataset/validation/Fish --dest_path OID/Dataset/validation/Annotations/Fish"
      ],
      "execution_count": 0,
      "outputs": []
    },
    {
      "cell_type": "code",
      "metadata": {
        "id": "JP3BwrVN9UXo",
        "colab_type": "code",
        "colab": {}
      },
      "source": [
        "os.mkdir(os.getcwd() + '/OID/Dataset/validation/Annotations/Grape')\n",
        "!python3 OIDv4_to_VOC.py --sourcepath OID/Dataset/validation/Grape --dest_path OID/Dataset/validation/Annotations/Grape"
      ],
      "execution_count": 0,
      "outputs": []
    },
    {
      "cell_type": "code",
      "metadata": {
        "id": "q15My7bm9kSJ",
        "colab_type": "code",
        "colab": {}
      },
      "source": [
        "os.mkdir(os.getcwd() + '/OID/Dataset/validation/Annotations/Grapefruit')\n",
        "!python3 OIDv4_to_VOC.py --sourcepath OID/Dataset/validation/Grapefruit --dest_path OID/Dataset/validation/Annotations/Grapefruit"
      ],
      "execution_count": 0,
      "outputs": []
    },
    {
      "cell_type": "code",
      "metadata": {
        "id": "TSpR3YW89rUt",
        "colab_type": "code",
        "colab": {}
      },
      "source": [
        "os.mkdir(os.getcwd() + '/OID/Dataset/validation/Annotations/Lobster')\n",
        "!python3 OIDv4_to_VOC.py --sourcepath OID/Dataset/validation/Lobster --dest_path OID/Dataset/validation/Annotations/Lobster"
      ],
      "execution_count": 0,
      "outputs": []
    },
    {
      "cell_type": "code",
      "metadata": {
        "id": "FZrxbVBS9yHd",
        "colab_type": "code",
        "colab": {}
      },
      "source": [
        "os.mkdir(os.getcwd() + '/OID/Dataset/validation/Annotations/Mango')\n",
        "!python3 OIDv4_to_VOC.py --sourcepath OID/Dataset/validation/Mango --dest_path OID/Dataset/validation/Annotations/Mango"
      ],
      "execution_count": 0,
      "outputs": []
    },
    {
      "cell_type": "code",
      "metadata": {
        "id": "FZmnqkSk93Cz",
        "colab_type": "code",
        "colab": {}
      },
      "source": [
        "os.mkdir(os.getcwd() + '/OID/Dataset/validation/Annotations/Orange')\n",
        "!python3 OIDv4_to_VOC.py --sourcepath OID/Dataset/validation/Orange --dest_path OID/Dataset/validation/Annotations/Orange"
      ],
      "execution_count": 0,
      "outputs": []
    },
    {
      "cell_type": "code",
      "metadata": {
        "id": "EViTGGGA9_3n",
        "colab_type": "code",
        "colab": {}
      },
      "source": [
        "os.mkdir(os.getcwd() + '/OID/Dataset/validation/Annotations/Pear')\n",
        "!python3 OIDv4_to_VOC.py --sourcepath OID/Dataset/validation/Pear --dest_path OID/Dataset/validation/Annotations/Pear"
      ],
      "execution_count": 0,
      "outputs": []
    },
    {
      "cell_type": "code",
      "metadata": {
        "id": "6zANj16E-HBs",
        "colab_type": "code",
        "colab": {}
      },
      "source": [
        "os.mkdir(os.getcwd() + '/OID/Dataset/validation/Annotations/Pineapple')\n",
        "!python3 OIDv4_to_VOC.py --sourcepath OID/Dataset/validation/Pineapple --dest_path OID/Dataset/validation/Annotations/Pineapple"
      ],
      "execution_count": 0,
      "outputs": []
    },
    {
      "cell_type": "code",
      "metadata": {
        "id": "6fUO56uK-Ot5",
        "colab_type": "code",
        "colab": {}
      },
      "source": [
        "os.mkdir(os.getcwd() + '/OID/Dataset/validation/Annotations/Pomegranate')\n",
        "!python3 OIDv4_to_VOC.py --sourcepath OID/Dataset/validation/Pomegranate --dest_path OID/Dataset/validation/Annotations/Pomegranate"
      ],
      "execution_count": 0,
      "outputs": []
    },
    {
      "cell_type": "code",
      "metadata": {
        "id": "WEPFb46S-WD-",
        "colab_type": "code",
        "colab": {}
      },
      "source": [
        "os.mkdir(os.getcwd() + '/OID/Dataset/validation/Annotations/Potato')\n",
        "!python3 OIDv4_to_VOC.py --sourcepath OID/Dataset/validation/Potato --dest_path OID/Dataset/validation/Annotations/Potato"
      ],
      "execution_count": 0,
      "outputs": []
    },
    {
      "cell_type": "code",
      "metadata": {
        "id": "USjZ9hvb-bWD",
        "colab_type": "code",
        "colab": {}
      },
      "source": [
        "os.mkdir(os.getcwd() + '/OID/Dataset/validation/Annotations/Pumpkin')\n",
        "!python3 OIDv4_to_VOC.py --sourcepath OID/Dataset/validation/Pumpkin --dest_path OID/Dataset/validation/Annotations/Pumpkin"
      ],
      "execution_count": 0,
      "outputs": []
    },
    {
      "cell_type": "code",
      "metadata": {
        "id": "ZU1nMHm1-kdo",
        "colab_type": "code",
        "colab": {}
      },
      "source": [
        "os.mkdir(os.getcwd() + '/OID/Dataset/validation/Annotations/Radish')\n",
        "!python3 OIDv4_to_VOC.py --sourcepath OID/Dataset/validation/Radish --dest_path OID/Dataset/validation/Annotations/Radish"
      ],
      "execution_count": 0,
      "outputs": []
    },
    {
      "cell_type": "code",
      "metadata": {
        "id": "gBgMrvhf-uz7",
        "colab_type": "code",
        "colab": {}
      },
      "source": [
        "os.mkdir(os.getcwd() + '/OID/Dataset/validation/Annotations/Squash')\n",
        "!python3 OIDv4_to_VOC.py --sourcepath OID/Dataset/validation/Squash --dest_path OID/Dataset/validation/Annotations/Squash"
      ],
      "execution_count": 0,
      "outputs": []
    },
    {
      "cell_type": "code",
      "metadata": {
        "id": "YcMw8ZaF-2kH",
        "colab_type": "code",
        "colab": {}
      },
      "source": [
        "os.mkdir(os.getcwd() + '/OID/Dataset/validation/Annotations/Strawberry')\n",
        "!python3 OIDv4_to_VOC.py --sourcepath OID/Dataset/validation/Strawberry --dest_path OID/Dataset/validation/Annotations/Strawberry"
      ],
      "execution_count": 0,
      "outputs": []
    },
    {
      "cell_type": "code",
      "metadata": {
        "id": "ozGMhSkH--5z",
        "colab_type": "code",
        "colab": {}
      },
      "source": [
        "os.mkdir(os.getcwd() + '/OID/Dataset/validation/Annotations/Tomato')\n",
        "!python3 OIDv4_to_VOC.py --sourcepath OID/Dataset/validation/Tomato --dest_path OID/Dataset/validation/Annotations/Tomato"
      ],
      "execution_count": 0,
      "outputs": []
    },
    {
      "cell_type": "code",
      "metadata": {
        "id": "eWLBk-GJ_Eyr",
        "colab_type": "code",
        "colab": {}
      },
      "source": [
        "os.mkdir(os.getcwd() + '/OID/Dataset/validation/Annotations/Watermelon')\n",
        "!python3 OIDv4_to_VOC.py --sourcepath OID/Dataset/validation/Watermelon --dest_path OID/Dataset/validation/Annotations/Watermelon"
      ],
      "execution_count": 0,
      "outputs": []
    },
    {
      "cell_type": "code",
      "metadata": {
        "id": "d0zJUb6Z_OK3",
        "colab_type": "code",
        "colab": {}
      },
      "source": [
        "os.mkdir(os.getcwd() + '/OID/Dataset/validation/Annotations/Zucchini')\n",
        "!python3 OIDv4_to_VOC.py --sourcepath OID/Dataset/validation/Zucchini --dest_path OID/Dataset/validation/Annotations/Zucchini"
      ],
      "execution_count": 0,
      "outputs": []
    },
    {
      "cell_type": "code",
      "metadata": {
        "id": "BOtsHk8A_XCt",
        "colab_type": "code",
        "colab": {}
      },
      "source": [
        "os.mkdir('train_images')\n",
        "os.mkdir('train_annotations')\n",
        "os.mkdir('val_images')\n",
        "os.mkdir('val_annotations')"
      ],
      "execution_count": 0,
      "outputs": []
    },
    {
      "cell_type": "code",
      "metadata": {
        "id": "nSvath6p_n-z",
        "colab_type": "code",
        "colab": {}
      },
      "source": [
        "path = os.getcwd() + \"/OID/Dataset/train/Annotations\"\n",
        "for classes in os.listdir(path):\n",
        "  for files in os.listdir(os.path.join(path,classes)):\n",
        "    shutil.copy(os.path.join(path,classes,files), os.getcwd() + \"/train_annotations\")"
      ],
      "execution_count": 0,
      "outputs": []
    },
    {
      "cell_type": "code",
      "metadata": {
        "id": "pnm8xyLiAXAD",
        "colab_type": "code",
        "colab": {}
      },
      "source": [
        "path = os.getcwd() + \"/OID/Dataset/validation/Annotations\"\n",
        "for classes in os.listdir(path):\n",
        "  for files in os.listdir(os.path.join(path,classes)):\n",
        "    shutil.copy(os.path.join(path,classes,files), os.getcwd() + \"/val_annotations\")"
      ],
      "execution_count": 0,
      "outputs": []
    },
    {
      "cell_type": "code",
      "metadata": {
        "id": "bGiCdXAlAc6f",
        "colab_type": "code",
        "colab": {}
      },
      "source": [
        "path = os.getcwd() + \"/OID/Dataset/train\"\n",
        "for classes in os.listdir(path):\n",
        "  if classes != 'Annotations':\n",
        "    for files in os.listdir(os.path.join(path,classes)):\n",
        "      if not os.path.isdir(os.path.join(path,classes,files)):\n",
        "        shutil.copy(os.path.join(path,classes,files), os.getcwd() + \"/train_images\")"
      ],
      "execution_count": 0,
      "outputs": []
    },
    {
      "cell_type": "code",
      "metadata": {
        "id": "hk3S7iM-A8Lh",
        "colab_type": "code",
        "colab": {}
      },
      "source": [
        "path = os.getcwd() + \"/OID/Dataset/validation\"\n",
        "for classes in os.listdir(path):\n",
        "  if classes != 'Annotations':\n",
        "    for files in os.listdir(os.path.join(path,classes)):\n",
        "      if not os.path.isdir(os.path.join(path,classes,files)):\n",
        "        shutil.copy(os.path.join(path,classes,files), os.getcwd() + \"/val_images\")"
      ],
      "execution_count": 0,
      "outputs": []
    },
    {
      "cell_type": "markdown",
      "metadata": {
        "id": "AdFK_DzTfG5x",
        "colab_type": "text"
      },
      "source": [
        "**Preprocessing And Training**"
      ]
    },
    {
      "cell_type": "markdown",
      "metadata": {
        "id": "GGJocAIofPzl",
        "colab_type": "text"
      },
      "source": [
        "**Initialization**"
      ]
    },
    {
      "cell_type": "code",
      "metadata": {
        "id": "HaQNnw-ne_wq",
        "colab_type": "code",
        "colab": {
          "base_uri": "https://localhost:8080/",
          "height": 81
        },
        "outputId": "deef8437-f221-40e2-e96f-f0bccf1c2b46"
      },
      "source": [
        "from keras.models import Sequential, Model\n",
        "from keras.layers import Reshape, Activation, Conv2D, Input, MaxPooling2D, BatchNormalization, Flatten, Dense, Lambda\n",
        "from keras.layers.advanced_activations import LeakyReLU\n",
        "from keras.callbacks import EarlyStopping, ModelCheckpoint, TensorBoard\n",
        "from keras.optimizers import SGD, Adam, RMSprop\n",
        "from keras.layers.merge import concatenate\n",
        "import matplotlib.pyplot as plt\n",
        "import keras.backend as K\n",
        "import tensorflow as tf\n",
        "import imgaug as ia\n",
        "from tqdm import tqdm\n",
        "from imgaug import augmenters as iaa\n",
        "import numpy as np\n",
        "import pickle\n",
        "import os, cv2\n",
        "from preprocessing import parse_annotation, BatchGenerator\n",
        "from utils import WeightReader, decode_netout, draw_boxes\n",
        "\n",
        "os.environ[\"CUDA_DEVICE_ORDER\"] = \"PCI_BUS_ID\"\n",
        "os.environ[\"CUDA_VISIBLE_DEVICES\"] = \"\"\n",
        "\n",
        "%matplotlib inline"
      ],
      "execution_count": 44,
      "outputs": [
        {
          "output_type": "stream",
          "text": [
            "Using TensorFlow backend.\n"
          ],
          "name": "stderr"
        },
        {
          "output_type": "display_data",
          "data": {
            "text/html": [
              "<p style=\"color: red;\">\n",
              "The default version of TensorFlow in Colab will soon switch to TensorFlow 2.x.<br>\n",
              "We recommend you <a href=\"https://www.tensorflow.org/guide/migrate\" target=\"_blank\">upgrade</a> now \n",
              "or ensure your notebook will continue to use TensorFlow 1.x via the <code>%tensorflow_version 1.x</code> magic:\n",
              "<a href=\"https://colab.research.google.com/notebooks/tensorflow_version.ipynb\" target=\"_blank\">more info</a>.</p>\n"
            ],
            "text/plain": [
              "<IPython.core.display.HTML object>"
            ]
          },
          "metadata": {
            "tags": []
          }
        }
      ]
    },
    {
      "cell_type": "code",
      "metadata": {
        "id": "2EYyq6mkfY89",
        "colab_type": "code",
        "colab": {}
      },
      "source": [
        "LABELS = ['Apple','Artichoke','Banana','Broccoli','Cabbage','Cantaloupe','Carrot','Chicken','Coconut','Cucumber','Egg','Fish','Grape','Grapefruit','Lobster','Mango','Orange','Pear','Pineapple','Pomegranate','Potato','Pumpkin','Radish','Squash','Strawberry','Tomato','Watermelon','Zucchini']\n",
        "\n",
        "IMAGE_H, IMAGE_W = 416, 416\n",
        "GRID_H,  GRID_W  = 13 , 13\n",
        "BOX              = 5\n",
        "CLASS            = len(LABELS)\n",
        "CLASS_WEIGHTS    = np.ones(CLASS, dtype='float32')\n",
        "OBJ_THRESHOLD    = 0.3#0.5\n",
        "NMS_THRESHOLD    = 0.3#0.45\n",
        "ANCHORS          = [0.57273, 0.677385, 1.87446, 2.06253, 3.33843, 5.47434, 7.88282, 3.52778, 9.77052, 9.16828]\n",
        "\n",
        "NO_OBJECT_SCALE  = 1.0\n",
        "OBJECT_SCALE     = 5.0\n",
        "COORD_SCALE      = 1.0\n",
        "CLASS_SCALE      = 1.0\n",
        "\n",
        "BATCH_SIZE       = 16\n",
        "WARM_UP_BATCHES  = 0\n",
        "TRUE_BOX_BUFFER  = 50"
      ],
      "execution_count": 0,
      "outputs": []
    },
    {
      "cell_type": "code",
      "metadata": {
        "id": "OSQhc8DLgbuf",
        "colab_type": "code",
        "colab": {
          "resources": {
            "http://localhost:8080/nbextensions/google.colab/files.js": {
              "data": "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",
              "ok": true,
              "headers": [
                [
                  "content-type",
                  "application/javascript"
                ]
              ],
              "status": 200,
              "status_text": ""
            }
          },
          "base_uri": "https://localhost:8080/",
          "height": 75
        },
        "outputId": "91af17e7-5524-447e-dae4-37bae6888932"
      },
      "source": [
        "from google.colab import files\n",
        "uploaded = files.upload()"
      ],
      "execution_count": 47,
      "outputs": [
        {
          "output_type": "display_data",
          "data": {
            "text/html": [
              "\n",
              "     <input type=\"file\" id=\"files-5c45a0b6-cd1f-449b-b5cb-95463ac3b7df\" name=\"files[]\" multiple disabled />\n",
              "     <output id=\"result-5c45a0b6-cd1f-449b-b5cb-95463ac3b7df\">\n",
              "      Upload widget is only available when the cell has been executed in the\n",
              "      current browser session. Please rerun this cell to enable.\n",
              "      </output>\n",
              "      <script src=\"/nbextensions/google.colab/files.js\"></script> "
            ],
            "text/plain": [
              "<IPython.core.display.HTML object>"
            ]
          },
          "metadata": {
            "tags": []
          }
        },
        {
          "output_type": "stream",
          "text": [
            "Saving yolov2.weights to yolov2.weights\n"
          ],
          "name": "stdout"
        }
      ]
    },
    {
      "cell_type": "code",
      "metadata": {
        "id": "qL6WBZQtBRy5",
        "colab_type": "code",
        "colab": {}
      },
      "source": [
        "wt_path = 'yolov2.weights'                      \n",
        "train_image_folder = 'train_images/'\n",
        "train_annot_folder = 'train_annotations/'\n",
        "valid_image_folder = 'val_images/'\n",
        "valid_annot_folder = 'val_annotations/'"
      ],
      "execution_count": 0,
      "outputs": []
    },
    {
      "cell_type": "code",
      "metadata": {
        "id": "gYDKW3G3Bnnr",
        "colab_type": "code",
        "colab": {}
      },
      "source": [
        "def space_to_depth_x2(x):\n",
        "    return tf.space_to_depth(x, block_size=2)"
      ],
      "execution_count": 0,
      "outputs": []
    },
    {
      "cell_type": "code",
      "metadata": {
        "id": "8wBB8apUByQA",
        "colab_type": "code",
        "colab": {
          "base_uri": "https://localhost:8080/",
          "height": 459
        },
        "outputId": "c02c5e79-b06e-4ee8-f27e-927587c7fd8b"
      },
      "source": [
        "input_image = Input(shape=(IMAGE_H, IMAGE_W, 3))\n",
        "true_boxes  = Input(shape=(1, 1, 1, TRUE_BOX_BUFFER , 4))\n",
        "\n",
        "# Layer 1\n",
        "x = Conv2D(32, (3,3), strides=(1,1), padding='same', name='conv_1', use_bias=False)(input_image)\n",
        "x = BatchNormalization(name='norm_1')(x)\n",
        "x = LeakyReLU(alpha=0.1)(x)\n",
        "x = MaxPooling2D(pool_size=(2, 2))(x)\n",
        "\n",
        "# Layer 2\n",
        "x = Conv2D(64, (3,3), strides=(1,1), padding='same', name='conv_2', use_bias=False)(x)\n",
        "x = BatchNormalization(name='norm_2')(x)\n",
        "x = LeakyReLU(alpha=0.1)(x)\n",
        "x = MaxPooling2D(pool_size=(2, 2))(x)\n",
        "\n",
        "# Layer 3\n",
        "x = Conv2D(128, (3,3), strides=(1,1), padding='same', name='conv_3', use_bias=False)(x)\n",
        "x = BatchNormalization(name='norm_3')(x)\n",
        "x = LeakyReLU(alpha=0.1)(x)\n",
        "\n",
        "# Layer 4\n",
        "x = Conv2D(64, (1,1), strides=(1,1), padding='same', name='conv_4', use_bias=False)(x)\n",
        "x = BatchNormalization(name='norm_4')(x)\n",
        "x = LeakyReLU(alpha=0.1)(x)\n",
        "\n",
        "# Layer 5\n",
        "x = Conv2D(128, (3,3), strides=(1,1), padding='same', name='conv_5', use_bias=False)(x)\n",
        "x = BatchNormalization(name='norm_5')(x)\n",
        "x = LeakyReLU(alpha=0.1)(x)\n",
        "x = MaxPooling2D(pool_size=(2, 2))(x)\n",
        "\n",
        "# Layer 6\n",
        "x = Conv2D(256, (3,3), strides=(1,1), padding='same', name='conv_6', use_bias=False)(x)\n",
        "x = BatchNormalization(name='norm_6')(x)\n",
        "x = LeakyReLU(alpha=0.1)(x)\n",
        "\n",
        "# Layer 7\n",
        "x = Conv2D(128, (1,1), strides=(1,1), padding='same', name='conv_7', use_bias=False)(x)\n",
        "x = BatchNormalization(name='norm_7')(x)\n",
        "x = LeakyReLU(alpha=0.1)(x)\n",
        "\n",
        "# Layer 8\n",
        "x = Conv2D(256, (3,3), strides=(1,1), padding='same', name='conv_8', use_bias=False)(x)\n",
        "x = BatchNormalization(name='norm_8')(x)\n",
        "x = LeakyReLU(alpha=0.1)(x)\n",
        "x = MaxPooling2D(pool_size=(2, 2))(x)\n",
        "\n",
        "# Layer 9\n",
        "x = Conv2D(512, (3,3), strides=(1,1), padding='same', name='conv_9', use_bias=False)(x)\n",
        "x = BatchNormalization(name='norm_9')(x)\n",
        "x = LeakyReLU(alpha=0.1)(x)\n",
        "\n",
        "# Layer 10\n",
        "x = Conv2D(256, (1,1), strides=(1,1), padding='same', name='conv_10', use_bias=False)(x)\n",
        "x = BatchNormalization(name='norm_10')(x)\n",
        "x = LeakyReLU(alpha=0.1)(x)\n",
        "\n",
        "# Layer 11\n",
        "x = Conv2D(512, (3,3), strides=(1,1), padding='same', name='conv_11', use_bias=False)(x)\n",
        "x = BatchNormalization(name='norm_11')(x)\n",
        "x = LeakyReLU(alpha=0.1)(x)\n",
        "\n",
        "# Layer 12\n",
        "x = Conv2D(256, (1,1), strides=(1,1), padding='same', name='conv_12', use_bias=False)(x)\n",
        "x = BatchNormalization(name='norm_12')(x)\n",
        "x = LeakyReLU(alpha=0.1)(x)\n",
        "\n",
        "# Layer 13\n",
        "x = Conv2D(512, (3,3), strides=(1,1), padding='same', name='conv_13', use_bias=False)(x)\n",
        "x = BatchNormalization(name='norm_13')(x)\n",
        "x = LeakyReLU(alpha=0.1)(x)\n",
        "\n",
        "skip_connection = x\n",
        "\n",
        "x = MaxPooling2D(pool_size=(2, 2))(x)\n",
        "\n",
        "# Layer 14\n",
        "x = Conv2D(1024, (3,3), strides=(1,1), padding='same', name='conv_14', use_bias=False)(x)\n",
        "x = BatchNormalization(name='norm_14')(x)\n",
        "x = LeakyReLU(alpha=0.1)(x)\n",
        "\n",
        "# Layer 15\n",
        "x = Conv2D(512, (1,1), strides=(1,1), padding='same', name='conv_15', use_bias=False)(x)\n",
        "x = BatchNormalization(name='norm_15')(x)\n",
        "x = LeakyReLU(alpha=0.1)(x)\n",
        "\n",
        "# Layer 16\n",
        "x = Conv2D(1024, (3,3), strides=(1,1), padding='same', name='conv_16', use_bias=False)(x)\n",
        "x = BatchNormalization(name='norm_16')(x)\n",
        "x = LeakyReLU(alpha=0.1)(x)\n",
        "\n",
        "# Layer 17\n",
        "x = Conv2D(512, (1,1), strides=(1,1), padding='same', name='conv_17', use_bias=False)(x)\n",
        "x = BatchNormalization(name='norm_17')(x)\n",
        "x = LeakyReLU(alpha=0.1)(x)\n",
        "\n",
        "# Layer 18\n",
        "x = Conv2D(1024, (3,3), strides=(1,1), padding='same', name='conv_18', use_bias=False)(x)\n",
        "x = BatchNormalization(name='norm_18')(x)\n",
        "x = LeakyReLU(alpha=0.1)(x)\n",
        "\n",
        "# Layer 19\n",
        "x = Conv2D(1024, (3,3), strides=(1,1), padding='same', name='conv_19', use_bias=False)(x)\n",
        "x = BatchNormalization(name='norm_19')(x)\n",
        "x = LeakyReLU(alpha=0.1)(x)\n",
        "\n",
        "# Layer 20\n",
        "x = Conv2D(1024, (3,3), strides=(1,1), padding='same', name='conv_20', use_bias=False)(x)\n",
        "x = BatchNormalization(name='norm_20')(x)\n",
        "x = LeakyReLU(alpha=0.1)(x)\n",
        "\n",
        "# Layer 21\n",
        "skip_connection = Conv2D(64, (1,1), strides=(1,1), padding='same', name='conv_21', use_bias=False)(skip_connection)\n",
        "skip_connection = BatchNormalization(name='norm_21')(skip_connection)\n",
        "skip_connection = LeakyReLU(alpha=0.1)(skip_connection)\n",
        "skip_connection = Lambda(space_to_depth_x2)(skip_connection)\n",
        "\n",
        "x = concatenate([skip_connection, x])\n",
        "\n",
        "# Layer 22\n",
        "x = Conv2D(1024, (3,3), strides=(1,1), padding='same', name='conv_22', use_bias=False)(x)\n",
        "x = BatchNormalization(name='norm_22')(x)\n",
        "x = LeakyReLU(alpha=0.1)(x)\n",
        "\n",
        "# Layer 23\n",
        "x = Conv2D(BOX * (4 + 1 + CLASS), (1,1), strides=(1,1), padding='same', name='conv_23')(x)\n",
        "output = Reshape((GRID_H, GRID_W, BOX, 4 + 1 + CLASS))(x)\n",
        "\n",
        "# small hack to allow true_boxes to be registered when Keras build the model \n",
        "# for more information: https://github.com/fchollet/keras/issues/2790\n",
        "output = Lambda(lambda args: args[0])([output, true_boxes])\n",
        "\n",
        "model = Model([input_image, true_boxes], output)"
      ],
      "execution_count": 140,
      "outputs": [
        {
          "output_type": "stream",
          "text": [
            "WARNING:tensorflow:From /usr/local/lib/python3.6/dist-packages/keras/backend/tensorflow_backend.py:66: The name tf.get_default_graph is deprecated. Please use tf.compat.v1.get_default_graph instead.\n",
            "\n",
            "WARNING:tensorflow:From /usr/local/lib/python3.6/dist-packages/keras/backend/tensorflow_backend.py:541: The name tf.placeholder is deprecated. Please use tf.compat.v1.placeholder instead.\n",
            "\n",
            "WARNING:tensorflow:From /usr/local/lib/python3.6/dist-packages/keras/backend/tensorflow_backend.py:4432: The name tf.random_uniform is deprecated. Please use tf.random.uniform instead.\n",
            "\n",
            "WARNING:tensorflow:From /usr/local/lib/python3.6/dist-packages/keras/backend/tensorflow_backend.py:190: The name tf.get_default_session is deprecated. Please use tf.compat.v1.get_default_session instead.\n",
            "\n",
            "WARNING:tensorflow:From /usr/local/lib/python3.6/dist-packages/keras/backend/tensorflow_backend.py:197: The name tf.ConfigProto is deprecated. Please use tf.compat.v1.ConfigProto instead.\n",
            "\n",
            "WARNING:tensorflow:From /usr/local/lib/python3.6/dist-packages/keras/backend/tensorflow_backend.py:203: The name tf.Session is deprecated. Please use tf.compat.v1.Session instead.\n",
            "\n",
            "WARNING:tensorflow:From /usr/local/lib/python3.6/dist-packages/keras/backend/tensorflow_backend.py:207: The name tf.global_variables is deprecated. Please use tf.compat.v1.global_variables instead.\n",
            "\n",
            "WARNING:tensorflow:From /usr/local/lib/python3.6/dist-packages/keras/backend/tensorflow_backend.py:216: The name tf.is_variable_initialized is deprecated. Please use tf.compat.v1.is_variable_initialized instead.\n",
            "\n",
            "WARNING:tensorflow:From /usr/local/lib/python3.6/dist-packages/keras/backend/tensorflow_backend.py:223: The name tf.variables_initializer is deprecated. Please use tf.compat.v1.variables_initializer instead.\n",
            "\n",
            "WARNING:tensorflow:From /usr/local/lib/python3.6/dist-packages/keras/backend/tensorflow_backend.py:2041: The name tf.nn.fused_batch_norm is deprecated. Please use tf.compat.v1.nn.fused_batch_norm instead.\n",
            "\n",
            "WARNING:tensorflow:From /usr/local/lib/python3.6/dist-packages/keras/backend/tensorflow_backend.py:148: The name tf.placeholder_with_default is deprecated. Please use tf.compat.v1.placeholder_with_default instead.\n",
            "\n",
            "WARNING:tensorflow:From /usr/local/lib/python3.6/dist-packages/keras/backend/tensorflow_backend.py:4267: The name tf.nn.max_pool is deprecated. Please use tf.nn.max_pool2d instead.\n",
            "\n"
          ],
          "name": "stdout"
        }
      ]
    },
    {
      "cell_type": "code",
      "metadata": {
        "id": "hoyc6576B0qQ",
        "colab_type": "code",
        "colab": {
          "base_uri": "https://localhost:8080/",
          "height": 169
        },
        "outputId": "6859de85-5f83-47b7-827f-d3341d9d514c"
      },
      "source": [
        "model.summary()"
      ],
      "execution_count": 2,
      "outputs": [
        {
          "output_type": "error",
          "ename": "NameError",
          "evalue": "ignored",
          "traceback": [
            "\u001b[0;31m---------------------------------------------------------------------------\u001b[0m",
            "\u001b[0;31mNameError\u001b[0m                                 Traceback (most recent call last)",
            "\u001b[0;32m<ipython-input-2-5f15418b3570>\u001b[0m in \u001b[0;36m<module>\u001b[0;34m()\u001b[0m\n\u001b[0;32m----> 1\u001b[0;31m \u001b[0mmodel\u001b[0m\u001b[0;34m.\u001b[0m\u001b[0msummary\u001b[0m\u001b[0;34m(\u001b[0m\u001b[0;34m)\u001b[0m\u001b[0;34m\u001b[0m\u001b[0;34m\u001b[0m\u001b[0m\n\u001b[0m",
            "\u001b[0;31mNameError\u001b[0m: name 'model' is not defined"
          ]
        }
      ]
    },
    {
      "cell_type": "code",
      "metadata": {
        "id": "LQozeY-bB3_d",
        "colab_type": "code",
        "colab": {}
      },
      "source": [
        "weight_reader = WeightReader(wt_path)"
      ],
      "execution_count": 0,
      "outputs": []
    },
    {
      "cell_type": "code",
      "metadata": {
        "id": "ZwfGHANUB9GW",
        "colab_type": "code",
        "colab": {}
      },
      "source": [
        "weight_reader.reset()\n",
        "nb_conv = 23\n",
        "\n",
        "for i in range(1, nb_conv+1):\n",
        "    conv_layer = model.get_layer('conv_' + str(i))\n",
        "    \n",
        "    if i < nb_conv:\n",
        "        norm_layer = model.get_layer('norm_' + str(i))\n",
        "        \n",
        "        size = np.prod(norm_layer.get_weights()[0].shape)\n",
        "\n",
        "        beta  = weight_reader.read_bytes(size)\n",
        "        gamma = weight_reader.read_bytes(size)\n",
        "        mean  = weight_reader.read_bytes(size)\n",
        "        var   = weight_reader.read_bytes(size)\n",
        "\n",
        "        weights = norm_layer.set_weights([gamma, beta, mean, var])       \n",
        "        \n",
        "    if len(conv_layer.get_weights()) > 1:\n",
        "        bias   = weight_reader.read_bytes(np.prod(conv_layer.get_weights()[1].shape))\n",
        "        kernel = weight_reader.read_bytes(np.prod(conv_layer.get_weights()[0].shape))\n",
        "        kernel = kernel.reshape(list(reversed(conv_layer.get_weights()[0].shape)))\n",
        "        kernel = kernel.transpose([2,3,1,0])\n",
        "        conv_layer.set_weights([kernel, bias])\n",
        "    else:\n",
        "        kernel = weight_reader.read_bytes(np.prod(conv_layer.get_weights()[0].shape))\n",
        "        kernel = kernel.reshape(list(reversed(conv_layer.get_weights()[0].shape)))\n",
        "        kernel = kernel.transpose([2,3,1,0])\n",
        "        conv_layer.set_weights([kernel])"
      ],
      "execution_count": 0,
      "outputs": []
    },
    {
      "cell_type": "code",
      "metadata": {
        "id": "U1gJP2p-CEao",
        "colab_type": "code",
        "colab": {}
      },
      "source": [
        "layer   = model.layers[-4] # the last convolutional layer\n",
        "weights = layer.get_weights()\n",
        "\n",
        "new_kernel = np.random.normal(size=weights[0].shape)/(GRID_H*GRID_W)\n",
        "new_bias   = np.random.normal(size=weights[1].shape)/(GRID_H*GRID_W)\n",
        "\n",
        "layer.set_weights([new_kernel, new_bias])"
      ],
      "execution_count": 0,
      "outputs": []
    },
    {
      "cell_type": "code",
      "metadata": {
        "id": "9o45BY1hCJgT",
        "colab_type": "code",
        "colab": {}
      },
      "source": [
        "def custom_loss(y_true, y_pred):\n",
        "    mask_shape = tf.shape(y_true)[:4]\n",
        "    \n",
        "    cell_x = tf.to_float(tf.reshape(tf.tile(tf.range(GRID_W), [GRID_H]), (1, GRID_H, GRID_W, 1, 1)))\n",
        "    cell_y = tf.transpose(cell_x, (0,2,1,3,4))\n",
        "\n",
        "    cell_grid = tf.tile(tf.concat([cell_x,cell_y], -1), [BATCH_SIZE, 1, 1, 5, 1])\n",
        "    \n",
        "    coord_mask = tf.zeros(mask_shape)\n",
        "    conf_mask  = tf.zeros(mask_shape)\n",
        "    class_mask = tf.zeros(mask_shape)\n",
        "    \n",
        "    seen = tf.Variable(0.)\n",
        "    total_recall = tf.Variable(0.)\n",
        "    \n",
        "    \"\"\"\n",
        "    Adjust prediction\n",
        "    \"\"\"\n",
        "    ### adjust x and y      \n",
        "    pred_box_xy = tf.sigmoid(y_pred[..., :2]) + cell_grid\n",
        "    \n",
        "    ### adjust w and h\n",
        "    pred_box_wh = tf.exp(y_pred[..., 2:4]) * np.reshape(ANCHORS, [1,1,1,BOX,2])\n",
        "    \n",
        "    ### adjust confidence\n",
        "    pred_box_conf = tf.sigmoid(y_pred[..., 4])\n",
        "    \n",
        "    ### adjust class probabilities\n",
        "    pred_box_class = y_pred[..., 5:]\n",
        "    \n",
        "    \"\"\"\n",
        "    Adjust ground truth\n",
        "    \"\"\"\n",
        "    ### adjust x and y\n",
        "    true_box_xy = y_true[..., 0:2] # relative position to the containing cell\n",
        "    \n",
        "    ### adjust w and h\n",
        "    true_box_wh = y_true[..., 2:4] # number of cells accross, horizontally and vertically\n",
        "    \n",
        "    ### adjust confidence\n",
        "    true_wh_half = true_box_wh / 2.\n",
        "    true_mins    = true_box_xy - true_wh_half\n",
        "    true_maxes   = true_box_xy + true_wh_half\n",
        "    \n",
        "    pred_wh_half = pred_box_wh / 2.\n",
        "    pred_mins    = pred_box_xy - pred_wh_half\n",
        "    pred_maxes   = pred_box_xy + pred_wh_half       \n",
        "    \n",
        "    intersect_mins  = tf.maximum(pred_mins,  true_mins)\n",
        "    intersect_maxes = tf.minimum(pred_maxes, true_maxes)\n",
        "    intersect_wh    = tf.maximum(intersect_maxes - intersect_mins, 0.)\n",
        "    intersect_areas = intersect_wh[..., 0] * intersect_wh[..., 1]\n",
        "    \n",
        "    true_areas = true_box_wh[..., 0] * true_box_wh[..., 1]\n",
        "    pred_areas = pred_box_wh[..., 0] * pred_box_wh[..., 1]\n",
        "\n",
        "    union_areas = pred_areas + true_areas - intersect_areas\n",
        "    iou_scores  = tf.truediv(intersect_areas, union_areas)\n",
        "    \n",
        "    true_box_conf = iou_scores * y_true[..., 4]\n",
        "    \n",
        "    ### adjust class probabilities\n",
        "    true_box_class = tf.argmax(y_true[..., 5:], -1)\n",
        "    \n",
        "    \"\"\"\n",
        "    Determine the masks\n",
        "    \"\"\"\n",
        "    ### coordinate mask: simply the position of the ground truth boxes (the predictors)\n",
        "    coord_mask = tf.expand_dims(y_true[..., 4], axis=-1) * COORD_SCALE\n",
        "    \n",
        "    ### confidence mask: penelize predictors + penalize boxes with low IOU\n",
        "    # penalize the confidence of the boxes, which have IOU with some ground truth box < 0.6\n",
        "    true_xy = true_boxes[..., 0:2]\n",
        "    true_wh = true_boxes[..., 2:4]\n",
        "    \n",
        "    true_wh_half = true_wh / 2.\n",
        "    true_mins    = true_xy - true_wh_half\n",
        "    true_maxes   = true_xy + true_wh_half\n",
        "    \n",
        "    pred_xy = tf.expand_dims(pred_box_xy, 4)\n",
        "    pred_wh = tf.expand_dims(pred_box_wh, 4)\n",
        "    \n",
        "    pred_wh_half = pred_wh / 2.\n",
        "    pred_mins    = pred_xy - pred_wh_half\n",
        "    pred_maxes   = pred_xy + pred_wh_half    \n",
        "    \n",
        "    intersect_mins  = tf.maximum(pred_mins,  true_mins)\n",
        "    intersect_maxes = tf.minimum(pred_maxes, true_maxes)\n",
        "    intersect_wh    = tf.maximum(intersect_maxes - intersect_mins, 0.)\n",
        "    intersect_areas = intersect_wh[..., 0] * intersect_wh[..., 1]\n",
        "    \n",
        "    true_areas = true_wh[..., 0] * true_wh[..., 1]\n",
        "    pred_areas = pred_wh[..., 0] * pred_wh[..., 1]\n",
        "\n",
        "    union_areas = pred_areas + true_areas - intersect_areas\n",
        "    iou_scores  = tf.truediv(intersect_areas, union_areas)\n",
        "\n",
        "    best_ious = tf.reduce_max(iou_scores, axis=4)\n",
        "    conf_mask = conf_mask + tf.to_float(best_ious < 0.6) * (1 - y_true[..., 4]) * NO_OBJECT_SCALE\n",
        "    \n",
        "    # penalize the confidence of the boxes, which are reponsible for corresponding ground truth box\n",
        "    conf_mask = conf_mask + y_true[..., 4] * OBJECT_SCALE\n",
        "    \n",
        "    ### class mask: simply the position of the ground truth boxes (the predictors)\n",
        "    class_mask = y_true[..., 4] * tf.gather(CLASS_WEIGHTS, true_box_class) * CLASS_SCALE       \n",
        "    \n",
        "    \"\"\"\n",
        "    Warm-up training\n",
        "    \"\"\"\n",
        "    no_boxes_mask = tf.to_float(coord_mask < COORD_SCALE/2.)\n",
        "    seen = tf.assign_add(seen, 1.)\n",
        "    \n",
        "    true_box_xy, true_box_wh, coord_mask = tf.cond(tf.less(seen, WARM_UP_BATCHES), \n",
        "                          lambda: [true_box_xy + (0.5 + cell_grid) * no_boxes_mask, \n",
        "                                   true_box_wh + tf.ones_like(true_box_wh) * np.reshape(ANCHORS, [1,1,1,BOX,2]) * no_boxes_mask, \n",
        "                                   tf.ones_like(coord_mask)],\n",
        "                          lambda: [true_box_xy, \n",
        "                                   true_box_wh,\n",
        "                                   coord_mask])\n",
        "    \n",
        "    \"\"\"\n",
        "    Finalize the loss\n",
        "    \"\"\"\n",
        "    nb_coord_box = tf.reduce_sum(tf.to_float(coord_mask > 0.0))\n",
        "    nb_conf_box  = tf.reduce_sum(tf.to_float(conf_mask  > 0.0))\n",
        "    nb_class_box = tf.reduce_sum(tf.to_float(class_mask > 0.0))\n",
        "    \n",
        "    loss_xy    = tf.reduce_sum(tf.square(true_box_xy-pred_box_xy)     * coord_mask) / (nb_coord_box + 1e-6) / 2.\n",
        "    loss_wh    = tf.reduce_sum(tf.square(true_box_wh-pred_box_wh)     * coord_mask) / (nb_coord_box + 1e-6) / 2.\n",
        "    loss_conf  = tf.reduce_sum(tf.square(true_box_conf-pred_box_conf) * conf_mask)  / (nb_conf_box  + 1e-6) / 2.\n",
        "    loss_class = tf.nn.sparse_softmax_cross_entropy_with_logits(labels=true_box_class, logits=pred_box_class)\n",
        "    loss_class = tf.reduce_sum(loss_class * class_mask) / (nb_class_box + 1e-6)\n",
        "    \n",
        "    loss = loss_xy + loss_wh + loss_conf + loss_class\n",
        "    \n",
        "    nb_true_box = tf.reduce_sum(y_true[..., 4])\n",
        "    nb_pred_box = tf.reduce_sum(tf.to_float(true_box_conf > 0.5) * tf.to_float(pred_box_conf > 0.3))\n",
        "\n",
        "    \"\"\"\n",
        "    Debugging code\n",
        "    \"\"\"    \n",
        "    current_recall = nb_pred_box/(nb_true_box + 1e-6)\n",
        "    total_recall = tf.assign_add(total_recall, current_recall) \n",
        "\n",
        "    loss = tf.Print(loss, [tf.zeros((1))], message='Dummy Line \\t', summarize=1000)\n",
        "    loss = tf.Print(loss, [loss_xy], message='Loss XY \\t', summarize=1000)\n",
        "    loss = tf.Print(loss, [loss_wh], message='Loss WH \\t', summarize=1000)\n",
        "    loss = tf.Print(loss, [loss_conf], message='Loss Conf \\t', summarize=1000)\n",
        "    loss = tf.Print(loss, [loss_class], message='Loss Class \\t', summarize=1000)\n",
        "    loss = tf.Print(loss, [loss], message='Total Loss \\t', summarize=1000)\n",
        "    loss = tf.Print(loss, [current_recall], message='Current Recall \\t', summarize=1000)\n",
        "    loss = tf.Print(loss, [total_recall/seen], message='Average Recall \\t', summarize=1000)\n",
        "    \n",
        "    return loss"
      ],
      "execution_count": 0,
      "outputs": []
    },
    {
      "cell_type": "code",
      "metadata": {
        "id": "s5kX96h0CPzG",
        "colab_type": "code",
        "colab": {}
      },
      "source": [
        "generator_config = {\n",
        "    'IMAGE_H'         : IMAGE_H, \n",
        "    'IMAGE_W'         : IMAGE_W,\n",
        "    'GRID_H'          : GRID_H,  \n",
        "    'GRID_W'          : GRID_W,\n",
        "    'BOX'             : BOX,\n",
        "    'LABELS'          : LABELS,\n",
        "    'CLASS'           : len(LABELS),\n",
        "    'ANCHORS'         : ANCHORS,\n",
        "    'BATCH_SIZE'      : BATCH_SIZE,\n",
        "    'TRUE_BOX_BUFFER' : 50,\n",
        "}"
      ],
      "execution_count": 0,
      "outputs": []
    },
    {
      "cell_type": "code",
      "metadata": {
        "id": "piQKljrsCU3v",
        "colab_type": "code",
        "colab": {}
      },
      "source": [
        "def normalize(image):\n",
        "    return image / 255."
      ],
      "execution_count": 0,
      "outputs": []
    },
    {
      "cell_type": "code",
      "metadata": {
        "id": "_Qw0DKmWCZW-",
        "colab_type": "code",
        "colab": {}
      },
      "source": [
        "train_imgs, seen_train_labels = parse_annotation(train_annot_folder, train_image_folder, labels=LABELS)\n",
        "### write parsed annotations to pickle for fast retrieval next time\n",
        "#with open('train_imgs', 'wb') as fp:\n",
        "#    pickle.dump(train_imgs, fp)\n",
        "\n",
        "### read saved pickle of parsed annotations\n",
        "#with open ('train_imgs', 'rb') as fp:\n",
        "#    train_imgs = pickle.load(fp)\n",
        "train_batch = BatchGenerator(train_imgs, generator_config, norm=normalize)\n",
        "\n",
        "valid_imgs, seen_valid_labels = parse_annotation(valid_annot_folder, valid_image_folder, labels=LABELS)\n",
        "### write parsed annotations to pickle for fast retrieval next time\n",
        "#with open('valid_imgs', 'wb') as fp:\n",
        "#    pickle.dump(valid_imgs, fp)\n",
        "\n",
        "### read saved pickle of parsed annotations\n",
        "#with open ('valid_imgs', 'rb') as fp:\n",
        "#    valid_imgs = pickle.load(fp)\n",
        "valid_batch = BatchGenerator(valid_imgs, generator_config, norm=normalize, jitter=False)"
      ],
      "execution_count": 0,
      "outputs": []
    },
    {
      "cell_type": "code",
      "metadata": {
        "id": "1AhNw18AC6VN",
        "colab_type": "code",
        "colab": {
          "base_uri": "https://localhost:8080/",
          "height": 239
        },
        "outputId": "3be7d33d-d744-40b4-deee-918ecf8633df"
      },
      "source": [
        "early_stop = EarlyStopping(monitor='val_loss', \n",
        "                           min_delta=0.001, \n",
        "                           patience=3, \n",
        "                           mode='min', \n",
        "                           verbose=1)\n",
        "\n",
        "checkpoint = ModelCheckpoint('weights_coco.h5', \n",
        "                             monitor='val_loss', \n",
        "                             verbose=1, \n",
        "                             save_best_only=True, \n",
        "                             mode='min', \n",
        "                             period=1)"
      ],
      "execution_count": 1,
      "outputs": [
        {
          "output_type": "error",
          "ename": "NameError",
          "evalue": "ignored",
          "traceback": [
            "\u001b[0;31m---------------------------------------------------------------------------\u001b[0m",
            "\u001b[0;31mNameError\u001b[0m                                 Traceback (most recent call last)",
            "\u001b[0;32m<ipython-input-1-695ffd87c0c3>\u001b[0m in \u001b[0;36m<module>\u001b[0;34m()\u001b[0m\n\u001b[0;32m----> 1\u001b[0;31m early_stop = EarlyStopping(monitor='val_loss', \n\u001b[0m\u001b[1;32m      2\u001b[0m                            \u001b[0mmin_delta\u001b[0m\u001b[0;34m=\u001b[0m\u001b[0;36m0.001\u001b[0m\u001b[0;34m,\u001b[0m\u001b[0;34m\u001b[0m\u001b[0;34m\u001b[0m\u001b[0m\n\u001b[1;32m      3\u001b[0m                            \u001b[0mpatience\u001b[0m\u001b[0;34m=\u001b[0m\u001b[0;36m3\u001b[0m\u001b[0;34m,\u001b[0m\u001b[0;34m\u001b[0m\u001b[0;34m\u001b[0m\u001b[0m\n\u001b[1;32m      4\u001b[0m                            \u001b[0mmode\u001b[0m\u001b[0;34m=\u001b[0m\u001b[0;34m'min'\u001b[0m\u001b[0;34m,\u001b[0m\u001b[0;34m\u001b[0m\u001b[0;34m\u001b[0m\u001b[0m\n\u001b[1;32m      5\u001b[0m                            verbose=1)\n",
            "\u001b[0;31mNameError\u001b[0m: name 'EarlyStopping' is not defined"
          ]
        }
      ]
    },
    {
      "cell_type": "code",
      "metadata": {
        "id": "QhNQ9v0cC_at",
        "colab_type": "code",
        "colab": {
          "base_uri": "https://localhost:8080/",
          "height": 386
        },
        "outputId": "b3bcc37d-d661-42ec-f429-01494630637d"
      },
      "source": [
        "\n",
        "optimizer = Adam(lr=0.5e-4, beta_1=0.9, beta_2=0.999, epsilon=1e-08, decay=0.0)\n",
        "#optimizer = SGD(lr=1e-4, decay=0.0005, momentum=0.9)\n",
        "#optimizer = RMSprop(lr=1e-4, rho=0.9, epsilon=1e-08, decay=0.0)\n",
        "\n",
        "model.compile(loss=custom_loss, optimizer=optimizer)\n",
        "\n",
        "model.fit_generator(generator        = train_batch, \n",
        "                    steps_per_epoch  = len(train_batch), \n",
        "                    epochs           = 30, \n",
        "                    verbose          = 1,\n",
        "                    validation_data  = valid_batch,\n",
        "                    validation_steps = len(valid_batch),\n",
        "                    callbacks        = [early_stop, checkpoint], \n",
        "                    max_queue_size   = 3)"
      ],
      "execution_count": 157,
      "outputs": [
        {
          "output_type": "stream",
          "text": [
            "Epoch 1/30\n",
            "  21/1254 [..............................] - ETA: 16:05:13 - loss: 4.5986"
          ],
          "name": "stdout"
        },
        {
          "output_type": "error",
          "ename": "KeyboardInterrupt",
          "evalue": "ignored",
          "traceback": [
            "\u001b[0;31m---------------------------------------------------------------------------\u001b[0m",
            "\u001b[0;31mKeyboardInterrupt\u001b[0m                         Traceback (most recent call last)",
            "\u001b[0;32m<ipython-input-157-cdc98f121e4b>\u001b[0m in \u001b[0;36m<module>\u001b[0;34m()\u001b[0m\n\u001b[1;32m     13\u001b[0m                     \u001b[0mvalidation_steps\u001b[0m \u001b[0;34m=\u001b[0m \u001b[0mlen\u001b[0m\u001b[0;34m(\u001b[0m\u001b[0mvalid_batch\u001b[0m\u001b[0;34m)\u001b[0m\u001b[0;34m,\u001b[0m\u001b[0;34m\u001b[0m\u001b[0;34m\u001b[0m\u001b[0m\n\u001b[1;32m     14\u001b[0m                     \u001b[0mcallbacks\u001b[0m        \u001b[0;34m=\u001b[0m \u001b[0;34m[\u001b[0m\u001b[0mearly_stop\u001b[0m\u001b[0;34m,\u001b[0m \u001b[0mcheckpoint\u001b[0m\u001b[0;34m]\u001b[0m\u001b[0;34m,\u001b[0m\u001b[0;34m\u001b[0m\u001b[0;34m\u001b[0m\u001b[0m\n\u001b[0;32m---> 15\u001b[0;31m                     max_queue_size   = 3)\n\u001b[0m",
            "\u001b[0;32m/usr/local/lib/python3.6/dist-packages/keras/legacy/interfaces.py\u001b[0m in \u001b[0;36mwrapper\u001b[0;34m(*args, **kwargs)\u001b[0m\n\u001b[1;32m     89\u001b[0m                 warnings.warn('Update your `' + object_name + '` call to the ' +\n\u001b[1;32m     90\u001b[0m                               'Keras 2 API: ' + signature, stacklevel=2)\n\u001b[0;32m---> 91\u001b[0;31m             \u001b[0;32mreturn\u001b[0m \u001b[0mfunc\u001b[0m\u001b[0;34m(\u001b[0m\u001b[0;34m*\u001b[0m\u001b[0margs\u001b[0m\u001b[0;34m,\u001b[0m \u001b[0;34m**\u001b[0m\u001b[0mkwargs\u001b[0m\u001b[0;34m)\u001b[0m\u001b[0;34m\u001b[0m\u001b[0;34m\u001b[0m\u001b[0m\n\u001b[0m\u001b[1;32m     92\u001b[0m         \u001b[0mwrapper\u001b[0m\u001b[0;34m.\u001b[0m\u001b[0m_original_function\u001b[0m \u001b[0;34m=\u001b[0m \u001b[0mfunc\u001b[0m\u001b[0;34m\u001b[0m\u001b[0;34m\u001b[0m\u001b[0m\n\u001b[1;32m     93\u001b[0m         \u001b[0;32mreturn\u001b[0m \u001b[0mwrapper\u001b[0m\u001b[0;34m\u001b[0m\u001b[0;34m\u001b[0m\u001b[0m\n",
            "\u001b[0;32m/usr/local/lib/python3.6/dist-packages/keras/engine/training.py\u001b[0m in \u001b[0;36mfit_generator\u001b[0;34m(self, generator, steps_per_epoch, epochs, verbose, callbacks, validation_data, validation_steps, validation_freq, class_weight, max_queue_size, workers, use_multiprocessing, shuffle, initial_epoch)\u001b[0m\n\u001b[1;32m   1656\u001b[0m             \u001b[0muse_multiprocessing\u001b[0m\u001b[0;34m=\u001b[0m\u001b[0muse_multiprocessing\u001b[0m\u001b[0;34m,\u001b[0m\u001b[0;34m\u001b[0m\u001b[0;34m\u001b[0m\u001b[0m\n\u001b[1;32m   1657\u001b[0m             \u001b[0mshuffle\u001b[0m\u001b[0;34m=\u001b[0m\u001b[0mshuffle\u001b[0m\u001b[0;34m,\u001b[0m\u001b[0;34m\u001b[0m\u001b[0;34m\u001b[0m\u001b[0m\n\u001b[0;32m-> 1658\u001b[0;31m             initial_epoch=initial_epoch)\n\u001b[0m\u001b[1;32m   1659\u001b[0m \u001b[0;34m\u001b[0m\u001b[0m\n\u001b[1;32m   1660\u001b[0m     \u001b[0;34m@\u001b[0m\u001b[0minterfaces\u001b[0m\u001b[0;34m.\u001b[0m\u001b[0mlegacy_generator_methods_support\u001b[0m\u001b[0;34m\u001b[0m\u001b[0;34m\u001b[0m\u001b[0m\n",
            "\u001b[0;32m/usr/local/lib/python3.6/dist-packages/keras/engine/training_generator.py\u001b[0m in \u001b[0;36mfit_generator\u001b[0;34m(model, generator, steps_per_epoch, epochs, verbose, callbacks, validation_data, validation_steps, validation_freq, class_weight, max_queue_size, workers, use_multiprocessing, shuffle, initial_epoch)\u001b[0m\n\u001b[1;32m    213\u001b[0m                 outs = model.train_on_batch(x, y,\n\u001b[1;32m    214\u001b[0m                                             \u001b[0msample_weight\u001b[0m\u001b[0;34m=\u001b[0m\u001b[0msample_weight\u001b[0m\u001b[0;34m,\u001b[0m\u001b[0;34m\u001b[0m\u001b[0;34m\u001b[0m\u001b[0m\n\u001b[0;32m--> 215\u001b[0;31m                                             class_weight=class_weight)\n\u001b[0m\u001b[1;32m    216\u001b[0m \u001b[0;34m\u001b[0m\u001b[0m\n\u001b[1;32m    217\u001b[0m                 \u001b[0mouts\u001b[0m \u001b[0;34m=\u001b[0m \u001b[0mto_list\u001b[0m\u001b[0;34m(\u001b[0m\u001b[0mouts\u001b[0m\u001b[0;34m)\u001b[0m\u001b[0;34m\u001b[0m\u001b[0;34m\u001b[0m\u001b[0m\n",
            "\u001b[0;32m/usr/local/lib/python3.6/dist-packages/keras/engine/training.py\u001b[0m in \u001b[0;36mtrain_on_batch\u001b[0;34m(self, x, y, sample_weight, class_weight)\u001b[0m\n\u001b[1;32m   1447\u001b[0m             \u001b[0mins\u001b[0m \u001b[0;34m=\u001b[0m \u001b[0mx\u001b[0m \u001b[0;34m+\u001b[0m \u001b[0my\u001b[0m \u001b[0;34m+\u001b[0m \u001b[0msample_weights\u001b[0m\u001b[0;34m\u001b[0m\u001b[0;34m\u001b[0m\u001b[0m\n\u001b[1;32m   1448\u001b[0m         \u001b[0mself\u001b[0m\u001b[0;34m.\u001b[0m\u001b[0m_make_train_function\u001b[0m\u001b[0;34m(\u001b[0m\u001b[0;34m)\u001b[0m\u001b[0;34m\u001b[0m\u001b[0;34m\u001b[0m\u001b[0m\n\u001b[0;32m-> 1449\u001b[0;31m         \u001b[0moutputs\u001b[0m \u001b[0;34m=\u001b[0m \u001b[0mself\u001b[0m\u001b[0;34m.\u001b[0m\u001b[0mtrain_function\u001b[0m\u001b[0;34m(\u001b[0m\u001b[0mins\u001b[0m\u001b[0;34m)\u001b[0m\u001b[0;34m\u001b[0m\u001b[0;34m\u001b[0m\u001b[0m\n\u001b[0m\u001b[1;32m   1450\u001b[0m         \u001b[0;32mreturn\u001b[0m \u001b[0munpack_singleton\u001b[0m\u001b[0;34m(\u001b[0m\u001b[0moutputs\u001b[0m\u001b[0;34m)\u001b[0m\u001b[0;34m\u001b[0m\u001b[0;34m\u001b[0m\u001b[0m\n\u001b[1;32m   1451\u001b[0m \u001b[0;34m\u001b[0m\u001b[0m\n",
            "\u001b[0;32m/usr/local/lib/python3.6/dist-packages/keras/backend/tensorflow_backend.py\u001b[0m in \u001b[0;36m__call__\u001b[0;34m(self, inputs)\u001b[0m\n\u001b[1;32m   2977\u001b[0m                     \u001b[0;32mreturn\u001b[0m \u001b[0mself\u001b[0m\u001b[0;34m.\u001b[0m\u001b[0m_legacy_call\u001b[0m\u001b[0;34m(\u001b[0m\u001b[0minputs\u001b[0m\u001b[0;34m)\u001b[0m\u001b[0;34m\u001b[0m\u001b[0;34m\u001b[0m\u001b[0m\n\u001b[1;32m   2978\u001b[0m \u001b[0;34m\u001b[0m\u001b[0m\n\u001b[0;32m-> 2979\u001b[0;31m             \u001b[0;32mreturn\u001b[0m \u001b[0mself\u001b[0m\u001b[0;34m.\u001b[0m\u001b[0m_call\u001b[0m\u001b[0;34m(\u001b[0m\u001b[0minputs\u001b[0m\u001b[0;34m)\u001b[0m\u001b[0;34m\u001b[0m\u001b[0;34m\u001b[0m\u001b[0m\n\u001b[0m\u001b[1;32m   2980\u001b[0m         \u001b[0;32melse\u001b[0m\u001b[0;34m:\u001b[0m\u001b[0;34m\u001b[0m\u001b[0;34m\u001b[0m\u001b[0m\n\u001b[1;32m   2981\u001b[0m             \u001b[0;32mif\u001b[0m \u001b[0mpy_any\u001b[0m\u001b[0;34m(\u001b[0m\u001b[0mis_tensor\u001b[0m\u001b[0;34m(\u001b[0m\u001b[0mx\u001b[0m\u001b[0;34m)\u001b[0m \u001b[0;32mfor\u001b[0m \u001b[0mx\u001b[0m \u001b[0;32min\u001b[0m \u001b[0minputs\u001b[0m\u001b[0;34m)\u001b[0m\u001b[0;34m:\u001b[0m\u001b[0;34m\u001b[0m\u001b[0;34m\u001b[0m\u001b[0m\n",
            "\u001b[0;32m/usr/local/lib/python3.6/dist-packages/keras/backend/tensorflow_backend.py\u001b[0m in \u001b[0;36m_call\u001b[0;34m(self, inputs)\u001b[0m\n\u001b[1;32m   2935\u001b[0m             \u001b[0mfetched\u001b[0m \u001b[0;34m=\u001b[0m \u001b[0mself\u001b[0m\u001b[0;34m.\u001b[0m\u001b[0m_callable_fn\u001b[0m\u001b[0;34m(\u001b[0m\u001b[0;34m*\u001b[0m\u001b[0marray_vals\u001b[0m\u001b[0;34m,\u001b[0m \u001b[0mrun_metadata\u001b[0m\u001b[0;34m=\u001b[0m\u001b[0mself\u001b[0m\u001b[0;34m.\u001b[0m\u001b[0mrun_metadata\u001b[0m\u001b[0;34m)\u001b[0m\u001b[0;34m\u001b[0m\u001b[0;34m\u001b[0m\u001b[0m\n\u001b[1;32m   2936\u001b[0m         \u001b[0;32melse\u001b[0m\u001b[0;34m:\u001b[0m\u001b[0;34m\u001b[0m\u001b[0;34m\u001b[0m\u001b[0m\n\u001b[0;32m-> 2937\u001b[0;31m             \u001b[0mfetched\u001b[0m \u001b[0;34m=\u001b[0m \u001b[0mself\u001b[0m\u001b[0;34m.\u001b[0m\u001b[0m_callable_fn\u001b[0m\u001b[0;34m(\u001b[0m\u001b[0;34m*\u001b[0m\u001b[0marray_vals\u001b[0m\u001b[0;34m)\u001b[0m\u001b[0;34m\u001b[0m\u001b[0;34m\u001b[0m\u001b[0m\n\u001b[0m\u001b[1;32m   2938\u001b[0m         \u001b[0;32mreturn\u001b[0m \u001b[0mfetched\u001b[0m\u001b[0;34m[\u001b[0m\u001b[0;34m:\u001b[0m\u001b[0mlen\u001b[0m\u001b[0;34m(\u001b[0m\u001b[0mself\u001b[0m\u001b[0;34m.\u001b[0m\u001b[0moutputs\u001b[0m\u001b[0;34m)\u001b[0m\u001b[0;34m]\u001b[0m\u001b[0;34m\u001b[0m\u001b[0;34m\u001b[0m\u001b[0m\n\u001b[1;32m   2939\u001b[0m \u001b[0;34m\u001b[0m\u001b[0m\n",
            "\u001b[0;32m/usr/local/lib/python3.6/dist-packages/tensorflow_core/python/client/session.py\u001b[0m in \u001b[0;36m__call__\u001b[0;34m(self, *args, **kwargs)\u001b[0m\n\u001b[1;32m   1470\u001b[0m         ret = tf_session.TF_SessionRunCallable(self._session._session,\n\u001b[1;32m   1471\u001b[0m                                                \u001b[0mself\u001b[0m\u001b[0;34m.\u001b[0m\u001b[0m_handle\u001b[0m\u001b[0;34m,\u001b[0m \u001b[0margs\u001b[0m\u001b[0;34m,\u001b[0m\u001b[0;34m\u001b[0m\u001b[0;34m\u001b[0m\u001b[0m\n\u001b[0;32m-> 1472\u001b[0;31m                                                run_metadata_ptr)\n\u001b[0m\u001b[1;32m   1473\u001b[0m         \u001b[0;32mif\u001b[0m \u001b[0mrun_metadata\u001b[0m\u001b[0;34m:\u001b[0m\u001b[0;34m\u001b[0m\u001b[0;34m\u001b[0m\u001b[0m\n\u001b[1;32m   1474\u001b[0m           \u001b[0mproto_data\u001b[0m \u001b[0;34m=\u001b[0m \u001b[0mtf_session\u001b[0m\u001b[0;34m.\u001b[0m\u001b[0mTF_GetBuffer\u001b[0m\u001b[0;34m(\u001b[0m\u001b[0mrun_metadata_ptr\u001b[0m\u001b[0;34m)\u001b[0m\u001b[0;34m\u001b[0m\u001b[0;34m\u001b[0m\u001b[0m\n",
            "\u001b[0;31mKeyboardInterrupt\u001b[0m: "
          ]
        }
      ]
    }
  ]
}