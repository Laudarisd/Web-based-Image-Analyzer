{
 "cells": [
  {
   "cell_type": "code",
   "execution_count": 1,
   "metadata": {},
   "outputs": [],
   "source": [
    "import os\n",
    "import cv2\n",
    "from PIL import Image\n",
    "import shutil"
   ]
  },
  {
   "cell_type": "code",
   "execution_count": 9,
   "metadata": {},
   "outputs": [
    {
     "data": {
      "text/plain": [
       "'C:\\\\Users\\\\RW\\\\darknet\\\\data'"
      ]
     },
     "execution_count": 9,
     "metadata": {},
     "output_type": "execute_result"
    }
   ],
   "source": [
    "os.chdir('./darknet/data')\n",
    "os.getcwd()"
   ]
  },
  {
   "cell_type": "code",
   "execution_count": 34,
   "metadata": {},
   "outputs": [],
   "source": [
    "def convert_box(classes, path, file_name):\n",
    "    f_txt = open(path+'Label/'+file_name+'.txt')\n",
    "    f_txt_new = open(path+'Label_New/'+file_name+'.txt', 'w')\n",
    "    l = {}\n",
    "    line = f_txt.readline()\n",
    "    count = 0\n",
    "    \n",
    "    \n",
    "    img = Image.open(path+'Images/'+file_name+'.jpg')\n",
    "    width = img.size[0]\n",
    "    height = img.size[1]\n",
    "    \n",
    "    while line:  \n",
    "        line = line.strip('\\n')\n",
    "        line = line.split(' ')\n",
    "        l[count] = line\n",
    "        (x1, y1, x2, y2) = map(float, l[count][1:5])\n",
    "        box_ratio = [(x2+x1)/(2*width), (y2+y1)/(2*height), (x2-x1)/width, (y2-y1)/height]\n",
    "        box_ratio = ['{:.4f}'.format(i) for i in box_ratio] \n",
    "        l[count][1:5] = box_ratio\n",
    "        l[count][0] = str(classes.index(l[count][0]))\n",
    "        f_txt_new.write(\" \".join(l[count]))\n",
    "        f_txt_new.write('\\n')\n",
    "        line = f_txt.readline()\n",
    "        count+=1\n",
    "    f_txt.close()    \n",
    "    f_txt_new.close()"
   ]
  },
  {
   "cell_type": "code",
   "execution_count": 32,
   "metadata": {},
   "outputs": [],
   "source": [
    "def YOLO_format_image_parameter_list(aims, classes, ori_path):\n",
    "    for aim in aims:\n",
    "        for cls in classes:\n",
    "            path = ori_path + aim + '/' + cls + '/'\n",
    "            file_list = os.listdir(path+'Images/')\n",
    "            for file_obj in file_list:\n",
    "                print(path)\n",
    "                file_name,file_extend = os.path.splitext(file_obj)\n",
    "                convert_box(classes, path, file_name)"
   ]
  },
  {
   "cell_type": "code",
   "execution_count": 38,
   "metadata": {},
   "outputs": [],
   "source": [
    "def file_list(aims, classes, ori_path):\n",
    "    for aim in aims: \n",
    "        f = open(ori_path+'Image_Sets/'+aim+'.txt', 'w')\n",
    "        for cls in classes:\n",
    "            path = ori_path+aim+'/'+cls+'/'\n",
    "            file_list = os.listdir(path+'Images/')\n",
    "            for file_obj in file_list: \n",
    "                file_name,file_extend = os.path.splitext(file_obj)\n",
    "                f.write(file_name+'\\n')\n",
    "        f.close()"
   ]
  },
  {
   "cell_type": "code",
   "execution_count": 46,
   "metadata": {},
   "outputs": [],
   "source": [
    "def merge_documents(aims, classes, ori_path):\n",
    "    for aim in aims:\n",
    "        for cls in classes:\n",
    "            path_ori = ori_path+aim+'/'+cls+'/Label_New/'\n",
    "            path_dst = ori_path+aim+'/All_Labels/'\n",
    "            file_list = os.listdir(path_ori)\n",
    "            for file_obj in file_list:\n",
    "                file_list_dst = os.listdir(path_dst)\n",
    "                if file_obj in file_list_dst:\n",
    "                    shutil.copyfileobj(open(path_ori+file_obj,'r'), open(path_dst+file_obj, 'a'))\n",
    "                else:\n",
    "                    shutil.copyfile(path_ori+file_obj, path_dst+file_obj)                 "
   ]
  },
  {
   "cell_type": "code",
   "execution_count": 65,
   "metadata": {},
   "outputs": [],
   "source": [
    "def extract_redraw(classes, path, file_name):\n",
    "    \n",
    "    img = cv2.imread(path+'All_Images/'+file_name+'.jpg')\n",
    "    height = img.shape[0]\n",
    "    width = img.shape[1]\n",
    "    \n",
    "    f = open(path+'All_Labels/'+file_name+'.txt')\n",
    "    line = f.readline()\n",
    "    count = 0\n",
    "    coordi = {}\n",
    "    while line:\n",
    "        line = line.strip('\\n')\n",
    "        line = line.split(' ')\n",
    "        [a,b,c,d] = map(float, line[1:5])\n",
    "        print((a,b,c,d))\n",
    "        [x1, x2, y1, y2] = [int((a-c/2)*width), int((a+c/2)*width), int((b-d/2)*height), int((b+d/2)*height)]\n",
    "        coordi[count] = [x1, x2, y1, y2]\n",
    "        cv2.rectangle(img, (x1, y1), (x2, y2), (0, 255, 0), 2)\n",
    "        font = cv2.FONT_HERSHEY_SIMPLEX\n",
    "        cv2.putText(img, classes[int(line[0])], (x1, y1), font, 2, (0,0,255), 5)\n",
    "        line = f.readline()\n",
    "        count += 1\n",
    "    f.close()    \n",
    "    \n",
    "    cv2.imwrite(file_name+'_2.jpg', img)"
   ]
  },
  {
   "cell_type": "code",
   "execution_count": 7,
   "metadata": {},
   "outputs": [],
   "source": [
    "aims = ['train', 'valid', 'test']\n",
    "classes = [\"Apple\", \"Orange\"]\n",
    "ori_path = 'Google Image/Dataset/'"
   ]
  },
  {
   "cell_type": "code",
   "execution_count": null,
   "metadata": {},
   "outputs": [],
   "source": [
    "# Convert pixel-based object boundary coordinates to YOLO-recognizable format\n",
    "YOLO_format_image_parameter_list(aims, classes, ori_path)\n",
    "# Copy coordinate files from differnt classes (but for the same purpose, i.e. train/validation/test) into \n",
    "# the All_Labels folder.\n",
    "# In rare cases the same image may exsit in two different classes. \n",
    "# In this case, the function will merge all boundary coordinates and object category into the same file.\n",
    "merge_documents(aims, classes, ori_path)\n",
    "# Double check if the multi-class coordinates are merged correctly.\n",
    "extract_redraw(classes, 'Google Image/Dataset/test/', '410690d34ff17eb4')"
   ]
  },
  {
   "cell_type": "code",
   "execution_count": 70,
   "metadata": {},
   "outputs": [],
   "source": [
    "# Revised voc_label.py\n",
    "wd = os.getcwd().replace('\\\\', '/')\n",
    "\n",
    "for aim in aims:\n",
    "\n",
    "    image_ids = open('Google Image/Dataset/Image_Sets/%s.txt'%(aim)).read().strip().split()\n",
    "    list_file = open('Google Image/absfilepath_%s.txt'%(aim), 'w')\n",
    "    \n",
    "    for image_id in image_ids:\n",
    "        list_file.write('%s/Google Image/Dataset/%s/All_Images/%s.jpg\\n'%(wd, aim, image_id))\n",
    "    \n",
    "    list_file.close()"
   ]
  },
  {
   "cell_type": "code",
   "execution_count": null,
   "metadata": {},
   "outputs": [],
   "source": []
  }
 ],
 "metadata": {
  "kernelspec": {
   "display_name": "Python 3",
   "language": "python",
   "name": "python3"
  },
  "language_info": {
   "codemirror_mode": {
    "name": "ipython",
    "version": 3
   },
   "file_extension": ".py",
   "mimetype": "text/x-python",
   "name": "python",
   "nbconvert_exporter": "python",
   "pygments_lexer": "ipython3",
   "version": "3.6.5"
  }
 },
 "nbformat": 4,
 "nbformat_minor": 2
}
